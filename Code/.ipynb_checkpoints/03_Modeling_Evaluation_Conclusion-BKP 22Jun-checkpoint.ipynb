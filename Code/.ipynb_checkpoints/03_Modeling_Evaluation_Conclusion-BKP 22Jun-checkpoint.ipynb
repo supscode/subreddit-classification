{
 "cells": [
  {
   "cell_type": "code",
   "execution_count": 217,
   "metadata": {},
   "outputs": [],
   "source": [
    "import pandas as pd\n",
    "import requests\n",
    "from bs4 import BeautifulSoup\n",
    "import numpy as np\n",
    "import seaborn as sns\n",
    "import matplotlib.pyplot as plt\n",
    "\n",
    "from nltk.stem.porter import PorterStemmer\n",
    "from nltk.stem import WordNetLemmatizer\n",
    "from nltk.tokenize import word_tokenize, RegexpTokenizer\n",
    "from nltk.corpus import stopwords\n",
    "from gensim.models.word2vec import Word2Vec\n",
    "from sklearn.pipeline import Pipeline\n",
    "from collections import Counter\n",
    "\n",
    "from sklearn.model_selection import train_test_split, GridSearchCV\n",
    "from sklearn.feature_extraction.text import CountVectorizer, TfidfVectorizer\n",
    "from sklearn.linear_model import LogisticRegression\n",
    "from sklearn.metrics import confusion_matrix, plot_confusion_matrix, f1_score, roc_auc_score, roc_curve\n",
    "from sklearn.ensemble import RandomForestClassifier\n",
    "from sklearn.naive_bayes import MultinomialNB\n",
    "\n",
    "import warnings"
   ]
  },
  {
   "cell_type": "code",
   "execution_count": 145,
   "metadata": {},
   "outputs": [],
   "source": [
    "# Ignoring warnings because there are some warnings related to SettingWithCopyWarning \n",
    "# inspite of using the correct code (.loc[row_indexer,col_indexer] = value)\n",
    "\n",
    "warnings.simplefilter('ignore') "
   ]
  },
  {
   "cell_type": "markdown",
   "metadata": {},
   "source": [
    "## Read Data from .csv file where the pre-processed data is stored"
   ]
  },
  {
   "cell_type": "code",
   "execution_count": 146,
   "metadata": {},
   "outputs": [],
   "source": [
    "df_marvel = pd.read_csv('../data/marvel.csv')"
   ]
  },
  {
   "cell_type": "code",
   "execution_count": 147,
   "metadata": {},
   "outputs": [],
   "source": [
    "df_DC = pd.read_csv('../data/DC.csv')"
   ]
  },
  {
   "cell_type": "code",
   "execution_count": 148,
   "metadata": {},
   "outputs": [],
   "source": [
    "df_marv_dc_1 = pd.read_csv('../data/df_marv_dc_1.csv')"
   ]
  },
  {
   "cell_type": "code",
   "execution_count": 149,
   "metadata": {},
   "outputs": [
    {
     "data": {
      "text/plain": [
       "(4209, 10)"
      ]
     },
     "execution_count": 149,
     "metadata": {},
     "output_type": "execute_result"
    }
   ],
   "source": [
    "df_marv_dc_1.shape"
   ]
  },
  {
   "cell_type": "code",
   "execution_count": 150,
   "metadata": {},
   "outputs": [
    {
     "data": {
      "text/plain": [
       "Index(['subreddit', 'tokens', 'tokens_len', 'tokens_nostop',\n",
       "       'tokens_lemmatized', 'tokens_lem_len', 'tokens_stemmed',\n",
       "       'tokens_stem_len', 'title_desc_new', 'title_desc_new_stem'],\n",
       "      dtype='object')"
      ]
     },
     "execution_count": 150,
     "metadata": {},
     "output_type": "execute_result"
    }
   ],
   "source": [
    "df_marv_dc_1.columns"
   ]
  },
  {
   "cell_type": "code",
   "execution_count": 151,
   "metadata": {},
   "outputs": [
    {
     "data": {
      "text/html": [
       "<div>\n",
       "<style scoped>\n",
       "    .dataframe tbody tr th:only-of-type {\n",
       "        vertical-align: middle;\n",
       "    }\n",
       "\n",
       "    .dataframe tbody tr th {\n",
       "        vertical-align: top;\n",
       "    }\n",
       "\n",
       "    .dataframe thead th {\n",
       "        text-align: right;\n",
       "    }\n",
       "</style>\n",
       "<table border=\"1\" class=\"dataframe\">\n",
       "  <thead>\n",
       "    <tr style=\"text-align: right;\">\n",
       "      <th></th>\n",
       "      <th>subreddit</th>\n",
       "      <th>tokens</th>\n",
       "      <th>tokens_len</th>\n",
       "      <th>tokens_nostop</th>\n",
       "      <th>tokens_lemmatized</th>\n",
       "      <th>tokens_lem_len</th>\n",
       "      <th>tokens_stemmed</th>\n",
       "      <th>tokens_stem_len</th>\n",
       "      <th>title_desc_new</th>\n",
       "      <th>title_desc_new_stem</th>\n",
       "    </tr>\n",
       "  </thead>\n",
       "  <tbody>\n",
       "    <tr>\n",
       "      <th>0</th>\n",
       "      <td>marvelstudios</td>\n",
       "      <td>['hey', 'just', 'realized', 'something', 'ant'...</td>\n",
       "      <td>32</td>\n",
       "      <td>['hey', 'realized', 'something', 'ant', 'black...</td>\n",
       "      <td>['hey', 'realized', 'something', 'ant', 'black...</td>\n",
       "      <td>22</td>\n",
       "      <td>['hey', 'realiz', 'someth', 'ant', 'black', 'p...</td>\n",
       "      <td>22</td>\n",
       "      <td>hey realized something ant black panther wasp ...</td>\n",
       "      <td>hey realiz someth ant black panther wasp aveng...</td>\n",
       "    </tr>\n",
       "    <tr>\n",
       "      <th>1</th>\n",
       "      <td>marvelstudios</td>\n",
       "      <td>['talking', 'loki']</td>\n",
       "      <td>2</td>\n",
       "      <td>['talking', 'loki']</td>\n",
       "      <td>['talking', 'loki']</td>\n",
       "      <td>2</td>\n",
       "      <td>['talk', 'loki']</td>\n",
       "      <td>2</td>\n",
       "      <td>talking loki</td>\n",
       "      <td>talk loki</td>\n",
       "    </tr>\n",
       "    <tr>\n",
       "      <th>2</th>\n",
       "      <td>marvelstudios</td>\n",
       "      <td>['what', 'invested', 'darcy', 'lewis', 'portra...</td>\n",
       "      <td>9</td>\n",
       "      <td>['invested', 'darcy', 'lewis', 'portrait', 'dr...</td>\n",
       "      <td>['invested', 'darcy', 'lewis', 'portrait', 'dr...</td>\n",
       "      <td>8</td>\n",
       "      <td>['invest', 'darci', 'lewi', 'portrait', 'draw'...</td>\n",
       "      <td>8</td>\n",
       "      <td>invested darcy lewis portrait drawing kat denn...</td>\n",
       "      <td>invest darci lewi portrait draw kat den wandavis</td>\n",
       "    </tr>\n",
       "    <tr>\n",
       "      <th>3</th>\n",
       "      <td>marvelstudios</td>\n",
       "      <td>['natasha', 'daughter', 'of', 'alexei', 'in', ...</td>\n",
       "      <td>107</td>\n",
       "      <td>['natasha', 'daughter', 'alexei', 'infinity', ...</td>\n",
       "      <td>['natasha', 'daughter', 'alexei', 'infinity', ...</td>\n",
       "      <td>109</td>\n",
       "      <td>['natasha', 'daughter', 'alexei', 'infin', 'wa...</td>\n",
       "      <td>109</td>\n",
       "      <td>natasha daughter alexei infinity war thanos ga...</td>\n",
       "      <td>natasha daughter alexei infin war thano gamora...</td>\n",
       "    </tr>\n",
       "    <tr>\n",
       "      <th>4</th>\n",
       "      <td>marvelstudios</td>\n",
       "      <td>['insert', 'loki', 'theory', 'here', 'well', '...</td>\n",
       "      <td>6</td>\n",
       "      <td>['insert', 'loki', 'theory', 'well', 'yeah']</td>\n",
       "      <td>['insert', 'loki', 'theory', 'well', 'yeah']</td>\n",
       "      <td>5</td>\n",
       "      <td>['insert', 'loki', 'theori', 'well', 'yeah']</td>\n",
       "      <td>5</td>\n",
       "      <td>insert loki theory well yeah</td>\n",
       "      <td>insert loki theori well yeah</td>\n",
       "    </tr>\n",
       "  </tbody>\n",
       "</table>\n",
       "</div>"
      ],
      "text/plain": [
       "       subreddit                                             tokens  \\\n",
       "0  marvelstudios  ['hey', 'just', 'realized', 'something', 'ant'...   \n",
       "1  marvelstudios                                ['talking', 'loki']   \n",
       "2  marvelstudios  ['what', 'invested', 'darcy', 'lewis', 'portra...   \n",
       "3  marvelstudios  ['natasha', 'daughter', 'of', 'alexei', 'in', ...   \n",
       "4  marvelstudios  ['insert', 'loki', 'theory', 'here', 'well', '...   \n",
       "\n",
       "   tokens_len                                      tokens_nostop  \\\n",
       "0          32  ['hey', 'realized', 'something', 'ant', 'black...   \n",
       "1           2                                ['talking', 'loki']   \n",
       "2           9  ['invested', 'darcy', 'lewis', 'portrait', 'dr...   \n",
       "3         107  ['natasha', 'daughter', 'alexei', 'infinity', ...   \n",
       "4           6       ['insert', 'loki', 'theory', 'well', 'yeah']   \n",
       "\n",
       "                                   tokens_lemmatized  tokens_lem_len  \\\n",
       "0  ['hey', 'realized', 'something', 'ant', 'black...              22   \n",
       "1                                ['talking', 'loki']               2   \n",
       "2  ['invested', 'darcy', 'lewis', 'portrait', 'dr...               8   \n",
       "3  ['natasha', 'daughter', 'alexei', 'infinity', ...             109   \n",
       "4       ['insert', 'loki', 'theory', 'well', 'yeah']               5   \n",
       "\n",
       "                                      tokens_stemmed  tokens_stem_len  \\\n",
       "0  ['hey', 'realiz', 'someth', 'ant', 'black', 'p...               22   \n",
       "1                                   ['talk', 'loki']                2   \n",
       "2  ['invest', 'darci', 'lewi', 'portrait', 'draw'...                8   \n",
       "3  ['natasha', 'daughter', 'alexei', 'infin', 'wa...              109   \n",
       "4       ['insert', 'loki', 'theori', 'well', 'yeah']                5   \n",
       "\n",
       "                                      title_desc_new  \\\n",
       "0  hey realized something ant black panther wasp ...   \n",
       "1                                       talking loki   \n",
       "2  invested darcy lewis portrait drawing kat denn...   \n",
       "3  natasha daughter alexei infinity war thanos ga...   \n",
       "4                       insert loki theory well yeah   \n",
       "\n",
       "                                 title_desc_new_stem  \n",
       "0  hey realiz someth ant black panther wasp aveng...  \n",
       "1                                          talk loki  \n",
       "2   invest darci lewi portrait draw kat den wandavis  \n",
       "3  natasha daughter alexei infin war thano gamora...  \n",
       "4                       insert loki theori well yeah  "
      ]
     },
     "execution_count": 151,
     "metadata": {},
     "output_type": "execute_result"
    }
   ],
   "source": [
    "df_marv_dc_1.head()"
   ]
  },
  {
   "cell_type": "markdown",
   "metadata": {},
   "source": [
    "# Modelling"
   ]
  },
  {
   "cell_type": "markdown",
   "metadata": {},
   "source": [
    " Rubric TBD  \n",
    " \n",
    " Preprocessing and Modeling\n",
    "\n",
    " <s>Is text data successfully converted to a matrix representation?</s><br>\n",
    " <s>Are methods such as stop words, stemming, and lemmatization explored?</s>\n",
    " <s>Does the student properly split and/or sample the data for validation/training purposes?</s><br>\n",
    " <s>Does the student test and evaluate a variety of models to identify a production algorithm (AT MINIMUM: Random Forest and one other model)?</s><br>\n",
    " Does the student defend their choice of production model relevant to the data at hand and the problem?<br>\n",
    " Does the student explain how the model works and evaluate its performance successes/downfalls?<br>\n",
    "\n",
    " Evaluation and Conceptual Understanding\n",
    "\n",
    " Does the student accurately identify and explain the baseline score?\n",
    " Does the student select and use metrics relevant to the problem objective?\n",
    " Does the student interpret the results of their model for purposes of inference?\n",
    " Is domain knowledge demonstrated when interpreting results?\n",
    " Does the student provide appropriate interpretation with regards to descriptive and inferential statistics?\n"
   ]
  },
  {
   "cell_type": "markdown",
   "metadata": {},
   "source": [
    "## Baseline Accuracy"
   ]
  },
  {
   "cell_type": "code",
   "execution_count": 152,
   "metadata": {},
   "outputs": [
    {
     "data": {
      "text/plain": [
       "DC_Cinematic     0.508434\n",
       "marvelstudios    0.491566\n",
       "Name: subreddit, dtype: float64"
      ]
     },
     "execution_count": 152,
     "metadata": {},
     "output_type": "execute_result"
    }
   ],
   "source": [
    "df_marv_dc_1['subreddit'].value_counts(normalize=True)"
   ]
  },
  {
   "cell_type": "markdown",
   "metadata": {},
   "source": [
    "As the proportion of posts between marvel and DC is around 50.4% to 49.6% the baseline accuracy of our model will be 0.504. This is because even if we predict all posts to be from marvel, even then we will be 50.4% accurate. So our model should at the very least do better than this score. "
   ]
  },
  {
   "cell_type": "markdown",
   "metadata": {},
   "source": [
    "### Let's define X, y and do a train test split"
   ]
  },
  {
   "cell_type": "code",
   "execution_count": 153,
   "metadata": {},
   "outputs": [
    {
     "data": {
      "text/plain": [
       "subreddit               0\n",
       "tokens                  0\n",
       "tokens_len              0\n",
       "tokens_nostop           0\n",
       "tokens_lemmatized       0\n",
       "tokens_lem_len          0\n",
       "tokens_stemmed          0\n",
       "tokens_stem_len         0\n",
       "title_desc_new         21\n",
       "title_desc_new_stem    21\n",
       "dtype: int64"
      ]
     },
     "execution_count": 153,
     "metadata": {},
     "output_type": "execute_result"
    }
   ],
   "source": [
    "df_marv_dc_1.isna().sum()"
   ]
  },
  {
   "cell_type": "code",
   "execution_count": 156,
   "metadata": {},
   "outputs": [],
   "source": [
    "# We replace the NA values in title_desc_new and title_desc_new_stem \n",
    "# with blank strings (due to pre-processing)\n",
    "df_marv_dc_1 = df_marv_dc_1.fillna('')\n"
   ]
  },
  {
   "cell_type": "code",
   "execution_count": 157,
   "metadata": {},
   "outputs": [],
   "source": [
    "# Set X and y variables. We map DC_Cinematic subreddit as 1 and marvelstudios as 0\n",
    "X = df_marv_dc_1['title_desc_new']\n",
    "y = df_marv_dc_1['subreddit'].map({'marvelstudios':0, 'DC_Cinematic':1})\n"
   ]
  },
  {
   "cell_type": "code",
   "execution_count": 158,
   "metadata": {},
   "outputs": [],
   "source": [
    "X_train, X_test, y_train, y_test = train_test_split(X, y, test_size=0.3, stratify=y, random_state=123)"
   ]
  },
  {
   "cell_type": "markdown",
   "metadata": {},
   "source": [
    "## CountVectorizer + Logistic Regression"
   ]
  },
  {
   "cell_type": "code",
   "execution_count": 159,
   "metadata": {},
   "outputs": [],
   "source": [
    "pipe = Pipeline([\n",
    "    ('cvec', CountVectorizer()),\n",
    "    ('lr', LogisticRegression())\n",
    "])"
   ]
  },
  {
   "cell_type": "code",
   "execution_count": 106,
   "metadata": {},
   "outputs": [],
   "source": [
    "# Search over the following values of hyperparameters:\n",
    "# Maximum number of features fit: 2000, 3000, 4000, 5000\n",
    "# Minimum number of documents needed to include token: 2, 3\n",
    "# Maximum number of documents needed to include token: 90%, 95%\n",
    "# Check (individual tokens) and also check (individual tokens and 2-grams).\n",
    "\n",
    "pipe_params = {\n",
    "    'cvec__max_features': [4_000],\n",
    "    'cvec__min_df': [2],\n",
    "    'cvec__max_df': [.9, .95],\n",
    "    'cvec__ngram_range': [(1,1), (1,2)],\n",
    "#    'lr__C': np.logspace(-1, 1, 50),\n",
    "    'lr__solver': ['lbfgs','liblinear'],\n",
    "    'lr__random_state': [123]\n",
    "}"
   ]
  },
  {
   "cell_type": "code",
   "execution_count": 107,
   "metadata": {},
   "outputs": [],
   "source": [
    "# Instantiate GridSearchCV.\n",
    "\n",
    "gs = GridSearchCV(pipe, # what object are we optimizing?\n",
    "                  param_grid=pipe_params, # what parameters values are we searching?\n",
    "                  cv=5) # 5-fold cross-validation."
   ]
  },
  {
   "cell_type": "code",
   "execution_count": 108,
   "metadata": {},
   "outputs": [
    {
     "data": {
      "text/plain": [
       "GridSearchCV(cv=5,\n",
       "             estimator=Pipeline(steps=[('cvec', CountVectorizer()),\n",
       "                                       ('lr', LogisticRegression())]),\n",
       "             param_grid={'cvec__max_df': [0.9, 0.95],\n",
       "                         'cvec__max_features': [4000], 'cvec__min_df': [2],\n",
       "                         'cvec__ngram_range': [(1, 1), (1, 2)],\n",
       "                         'lr__random_state': [123],\n",
       "                         'lr__solver': ['lbfgs', 'liblinear']})"
      ]
     },
     "execution_count": 108,
     "metadata": {},
     "output_type": "execute_result"
    }
   ],
   "source": [
    "# Fit GridSearch to training data.\n",
    "gs.fit(X_train, y_train)"
   ]
  },
  {
   "cell_type": "code",
   "execution_count": 296,
   "metadata": {},
   "outputs": [],
   "source": [
    "df_scores = pd.DataFrame(columns=['model', 'cross_val_score', 'train_score', 'test_score', 'auc'])\n"
   ]
  },
  {
   "cell_type": "code",
   "execution_count": 342,
   "metadata": {},
   "outputs": [
    {
     "name": "stdout",
     "output_type": "stream",
     "text": [
      "****Cross Val Score****: \n",
      "0.9202353889096717\n",
      "\n",
      "****Train Score****: \n",
      "0.9837067209775967\n",
      "\n",
      "****Test Score****: \n",
      "0.9239904988123515\n",
      "\n",
      "****Best Params****: \n",
      "{'cvec__max_df': 0.9, 'cvec__max_features': 4000, 'cvec__min_df': 2, 'cvec__ngram_range': (1, 1), 'lr__random_state': 123, 'lr__solver': 'liblinear'}\n",
      "\n",
      "****Accuracy****: \n",
      "0.9239904988123515\n",
      "\n"
     ]
    },
    {
     "data": {
      "text/plain": [
       "<Figure size 648x648 with 0 Axes>"
      ]
     },
     "metadata": {},
     "output_type": "display_data"
    },
    {
     "data": {
      "image/png": "[encoded data removed]",
      "text/plain": [
       "<Figure size 432x288 with 2 Axes>"
      ]
     },
     "metadata": {
      "needs_background": "light"
     },
     "output_type": "display_data"
    },
    {
     "data": {
      "image/png": "[encoded data removed]",
      "text/plain": [
       "<Figure size 432x432 with 1 Axes>"
      ]
     },
     "metadata": {
      "needs_background": "light"
     },
     "output_type": "display_data"
    }
   ],
   "source": [
    "def analyse_model_performance(model, X_train_values, y_train_values, X_test_values, y_test_values):\n",
    "    \n",
    "    \n",
    "    # Get predictions\n",
    "    preds = model.predict(X_test_values)\n",
    "\n",
    "    # Save confusion matrix values\n",
    "    tn, fp, fn, tp = confusion_matrix(y_test_values, preds).ravel()\n",
    "\n",
    "    dict_scores = {'model': str(model.estimator.steps),\n",
    "                'cross_val_score': model.best_score_, \n",
    "                'train_score': model.score(X_train_values, y_train_values),\n",
    "                'test_score': model.score(X_test, y_test),\n",
    "                'best_params_': model.best_params_,\n",
    "                'accuracy': (tp + tn)/(tp + fp + tn + fn)\n",
    "              }\n",
    "    \n",
    "    print(f\"****Cross Val Score****: \\n{dict_scores['cross_val_score']}\\n\")\n",
    "    print(f\"****Train Score****: \\n{dict_scores['train_score']}\\n\")\n",
    "    print(f\"****Test Score****: \\n{dict_scores['test_score']}\\n\")\n",
    "    print(f\"****Best Params****: \\n{dict_scores['best_params_']}\\n\")\n",
    "    print(f\"****Accuracy****: \\n{dict_scores['accuracy']}\\n\")\n",
    "\n",
    "    plt.figure(figsize=(9,9));\n",
    "    cf = plot_confusion_matrix(gs, X_test, y_test, display_labels=['marvelstudios', 'DC_Cinematic'], cmap='Greens', values_format='d');\n",
    "    plt.show();\n",
    "    \n",
    "    plt.figure(figsize=(6,6));\n",
    "    auc = plot_roc_auc_curve(gs, X_test, y_test);\n",
    "    plt.show();\n",
    "\n",
    "    dict_scores['AUC'] = auc\n",
    "    \n",
    "    return dict_scores\n",
    "\n",
    "scores = analyse_model_performance(gs, X_train, y_train, X_test, y_test);\n"
   ]
  },
  {
   "cell_type": "code",
   "execution_count": 109,
   "metadata": {},
   "outputs": [
    {
     "data": {
      "text/plain": [
       "0.9202353889096717"
      ]
     },
     "execution_count": 109,
     "metadata": {},
     "output_type": "execute_result"
    }
   ],
   "source": [
    "\n",
    "# Find the cross_val_score of the model\n",
    "gs.best_score_"
   ]
  },
  {
   "cell_type": "code",
   "execution_count": 110,
   "metadata": {},
   "outputs": [
    {
     "data": {
      "text/plain": [
       "0.9837067209775967"
      ]
     },
     "execution_count": 110,
     "metadata": {},
     "output_type": "execute_result"
    }
   ],
   "source": [
    "# Find the score of the model on training dataset\n",
    "\n",
    "gs.score(X_train, y_train)"
   ]
  },
  {
   "cell_type": "code",
   "execution_count": 111,
   "metadata": {},
   "outputs": [
    {
     "data": {
      "text/plain": [
       "0.9239904988123515"
      ]
     },
     "execution_count": 111,
     "metadata": {},
     "output_type": "execute_result"
    }
   ],
   "source": [
    "# Find the score of the model on test dataset\n",
    "\n",
    "gs.score(X_test, y_test)"
   ]
  },
  {
   "cell_type": "code",
   "execution_count": 112,
   "metadata": {},
   "outputs": [
    {
     "data": {
      "text/plain": [
       "{'cvec__max_df': 0.9,\n",
       " 'cvec__max_features': 4000,\n",
       " 'cvec__min_df': 2,\n",
       " 'cvec__ngram_range': (1, 1),\n",
       " 'lr__random_state': 123,\n",
       " 'lr__solver': 'liblinear'}"
      ]
     },
     "execution_count": 112,
     "metadata": {},
     "output_type": "execute_result"
    }
   ],
   "source": [
    "gs.best_params_"
   ]
  },
  {
   "cell_type": "markdown",
   "metadata": {},
   "source": [
    "We see that the training score and test score are quite high, and much higher than the baseline. However the test score is more than 5% lower than the train score, whosing evidence of overfitting. "
   ]
  },
  {
   "cell_type": "code",
   "execution_count": 223,
   "metadata": {},
   "outputs": [
    {
     "name": "stdout",
     "output_type": "stream",
     "text": [
      "tp: 625\n",
      "fn: 17\n",
      "tn: 542\n",
      "fp: 79\n"
     ]
    }
   ],
   "source": [
    "# Get predictions\n",
    "preds = gs.predict(X_test)\n",
    "\n",
    "# Save confusion matrix values\n",
    "tn, fp, fn, tp = confusion_matrix(y_test, preds).ravel()\n",
    "\n",
    "print(f\"tp: {tp}\")\n",
    "print(f\"fn: {fn}\")\n",
    "print(f\"tn: {tn}\")\n",
    "print(f\"fp: {fp}\")"
   ]
  },
  {
   "cell_type": "code",
   "execution_count": 114,
   "metadata": {},
   "outputs": [
    {
     "data": {
      "image/png": "[encoded data removed]",
      "text/plain": [
       "<Figure size 432x288 with 2 Axes>"
      ]
     },
     "metadata": {
      "needs_background": "light"
     },
     "output_type": "display_data"
    }
   ],
   "source": [
    "# View confusion matrix\n",
    "\n",
    "plot_confusion_matrix(gs, X_test, y_test, display_labels=['marvelstudios', 'DC_Cinematic'], cmap='Greens', values_format='d');\n"
   ]
  },
  {
   "cell_type": "markdown",
   "metadata": {},
   "source": [
    "Our model can preddict subreddits for DC_Cinematic slightly more accurately than mervelstudios. "
   ]
  },
  {
   "cell_type": "code",
   "execution_count": 115,
   "metadata": {},
   "outputs": [
    {
     "name": "stdout",
     "output_type": "stream",
     "text": [
      "accuracy: 0.9239904988123515\n",
      "sensitivity: 0.9735202492211839\n",
      "specificity: 0.8727858293075684\n"
     ]
    }
   ],
   "source": [
    "# Calculate Accuracy, Sensitivity and Specificity\n",
    "\n",
    "accuracy = (tp + tn)/(tp + fp + tn + fn)\n",
    "print(f'accuracy: {accuracy}')\n",
    "\n",
    "sensitivity = tp / (tp + fn) #aka True positive rate i.e. rate of getting true DC subreddit\n",
    "print(f'sensitivity: {sensitivity}')\n",
    "\n",
    "specificity = tn / (tn + fp) #aka True negative rate i.e. rate of getting true marvel subreddit\n",
    "print(f'specificity: {specificity}')\n"
   ]
  },
  {
   "cell_type": "markdown",
   "metadata": {},
   "source": [
    "The model considers DC as a positive result and marvel as a negative result. Sensitivity rate shows true positive rate i.e. the rate of getting correct DC predictions. And the specificity shows the rate of getting correct Marvel predictions. \n",
    "\n",
    "The sensitivity and specificity scores also indicate that our model predicts true positives (in our case DC_Cinematic subreddits) at a slightly higher rate than true negatives (in our case mervelstudios subreddits) as the sensitivity is higher than specificity."
   ]
  },
  {
   "cell_type": "code",
   "execution_count": 248,
   "metadata": {},
   "outputs": [],
   "source": [
    "def plot_roc_auc_curve(gs, X_test_values, y_test_values):\n",
    "    y_pred_proba = gs.predict_proba(X_test_values)[::,1]\n",
    "    fpr, tpr, _ = roc_curve(y_test_values,  y_pred_proba)\n",
    "    auc = roc_auc_score(y_test_values, y_pred_proba)\n",
    "    \n",
    "    plt.plot(fpr,tpr,label=\"data 1, auc=\"+str(auc))\n",
    "    plt.plot([0, 1], [0, 1], label='baseline', linestyle='--')\n",
    "    plt.legend(loc=4)\n",
    "    plt.show()\n",
    "    \n",
    "    return auc"
   ]
  },
  {
   "cell_type": "code",
   "execution_count": 263,
   "metadata": {},
   "outputs": [
    {
     "data": {
      "image/png": "[encoded data removed]",
      "text/plain": [
       "<Figure size 432x288 with 1 Axes>"
      ]
     },
     "metadata": {
      "needs_background": "light"
     },
     "output_type": "display_data"
    },
    {
     "data": {
      "text/plain": [
       "0.9823041923136735"
      ]
     },
     "execution_count": 263,
     "metadata": {},
     "output_type": "execute_result"
    }
   ],
   "source": [
    "auc = plot_roc_auc_curve(gs, X_test, y_test)\n",
    "auc"
   ]
  },
  {
   "cell_type": "markdown",
   "metadata": {},
   "source": [
    "AUC of the model is quite close to 1 which shows a high measure of separability i.e. capability of the model to distinguish between the two classes is quite high. "
   ]
  },
  {
   "cell_type": "markdown",
   "metadata": {},
   "source": [
    "### Finding the top predictors"
   ]
  },
  {
   "cell_type": "code",
   "execution_count": 121,
   "metadata": {},
   "outputs": [],
   "source": [
    "def get_important_features_lr(vectoriser, estimator, n):\n",
    "    feature_names = pd.DataFrame(vectoriser.get_feature_names(), columns=['feature_name'])    \n",
    "    df_coef = pd.DataFrame(estimator.coef_)\n",
    "    df_coef = df_coef.T\n",
    "    \n",
    "    df_coef = pd.concat([df_coef, feature_names], axis=1)    \n",
    "    df_coef = df_coef.rename(columns={0:'value'})    \n",
    "        \n",
    "    return df_coef.sort_values(by='value', ascending=True)[:20], df_coef.sort_values(by='value', ascending=False)[:20]"
   ]
  },
  {
   "cell_type": "code",
   "execution_count": 122,
   "metadata": {},
   "outputs": [],
   "source": [
    "# plot most important words\n",
    "def plot_important_words(df_coef1, df_coef2, title=\"\"):\n",
    "    fig, axes = plt.subplots(nrows=1, ncols=2)\n",
    "    fig.suptitle(title, y=0.93)\n",
    "\n",
    "    plot1 = df_coef1.sort_values(by='value', ascending=True)[:20].plot(kind='barh', y='value', x='feature_name', \n",
    "                                                                     ax=axes[0], figsize=(8,10), label='_');\n",
    "    plot1.set_xlabel('Importance')\n",
    "    plot1.set_ylabel('Words')\n",
    "    plot1.set_title('Marvel Studios')\n",
    "\n",
    "    plot2 = df_coef2.sort_values(by='value', ascending=False)[:20].plot(kind='barh', y='value', \n",
    "                                                                  x='feature_name', \n",
    "                                                             ax=axes[1], figsize=(8,10),label='_');\n",
    "    plot2.set_xlabel('Importance')\n",
    "    plot2.set_ylabel('Words')\n",
    "    plot2.set_title('DC Cinematic')\n",
    "\n",
    "    plt.subplots_adjust(wspace=0.8)\n",
    "    plt.show()"
   ]
  },
  {
   "cell_type": "code",
   "execution_count": 123,
   "metadata": {},
   "outputs": [],
   "source": [
    "df_coef_marvel, df_coef_DC = get_important_features_lr(gs.best_estimator_.named_steps.cvec, gs.best_estimator_.named_steps.lr, 20)\n"
   ]
  },
  {
   "cell_type": "code",
   "execution_count": 124,
   "metadata": {},
   "outputs": [
    {
     "data": {
      "image/png": "[encoded data removed]",
      "text/plain": [
       "<Figure size 576x720 with 2 Axes>"
      ]
     },
     "metadata": {
      "needs_background": "light"
     },
     "output_type": "display_data"
    }
   ],
   "source": [
    "plot_important_words(df_coef_marvel, df_coef_DC, title=\"Top 20 predictors using CVEC + Logistic Regression model\")\n",
    "    "
   ]
  },
  {
   "cell_type": "markdown",
   "metadata": {},
   "source": [
    "The top 20 predictors of the model show that model is giving importance to the right words relevant to Marvel and DC characters. We can see that the model gives more importance to 1-gram words rather than 2-gram words, as we had specified both 1 gram and 2 gram ranges in the GridSearchCV. "
   ]
  },
  {
   "cell_type": "markdown",
   "metadata": {},
   "source": [
    "# TFIDFVectorizer + Logistic Regression"
   ]
  },
  {
   "cell_type": "code",
   "execution_count": 125,
   "metadata": {},
   "outputs": [],
   "source": [
    "# Set up a pipeline with tf-idf vectorizer and LogisticRegression\n",
    "\n",
    "pipe_tvec = Pipeline([\n",
    "    ('tvec', TfidfVectorizer()),\n",
    "    ('lr', LogisticRegression())\n",
    "])"
   ]
  },
  {
   "cell_type": "code",
   "execution_count": 126,
   "metadata": {},
   "outputs": [],
   "source": [
    "# Search over the following values of hyperparameters:\n",
    "# Maximum number of features fit: 5000\n",
    "# English stop words\n",
    "# Check (individual tokens) and also check (individual tokens and 2-grams).\n",
    "\n",
    "pipe_tvec_params = {\n",
    "    'tvec__max_features': [5_000],\n",
    "    'tvec__stop_words': ['english'],\n",
    "    'tvec__ngram_range': [(1,1), (2,2)],\n",
    "#    'lr__C': np.logspace(-1, 1, 50),\n",
    "    'lr__solver': ['lbfgs','liblinear'],\n",
    "    'lr__random_state':[123]\n",
    "}"
   ]
  },
  {
   "cell_type": "code",
   "execution_count": 127,
   "metadata": {},
   "outputs": [],
   "source": [
    "# Instantiate GridSearchCV.\n",
    "gs_tvec = GridSearchCV(pipe_tvec, # what object are we optimizing?\n",
    "                        param_grid = pipe_tvec_params, # what parameters values are we searching?\n",
    "                        cv=5) # 5-fold cross-validation."
   ]
  },
  {
   "cell_type": "code",
   "execution_count": 128,
   "metadata": {
    "scrolled": true
   },
   "outputs": [
    {
     "data": {
      "text/plain": [
       "GridSearchCV(cv=5,\n",
       "             estimator=Pipeline(steps=[('tvec', TfidfVectorizer()),\n",
       "                                       ('lr', LogisticRegression())]),\n",
       "             param_grid={'lr__random_state': [123],\n",
       "                         'lr__solver': ['lbfgs', 'liblinear'],\n",
       "                         'tvec__max_features': [5000],\n",
       "                         'tvec__ngram_range': [(1, 1), (2, 2)],\n",
       "                         'tvec__stop_words': ['english']})"
      ]
     },
     "execution_count": 128,
     "metadata": {},
     "output_type": "execute_result"
    }
   ],
   "source": [
    "\n",
    "# Fit GridSearch to training data.\n",
    "gs_tvec.fit(X_train, y_train)"
   ]
  },
  {
   "cell_type": "code",
   "execution_count": 129,
   "metadata": {},
   "outputs": [
    {
     "data": {
      "text/plain": [
       "0.9280435095392938"
      ]
     },
     "execution_count": 129,
     "metadata": {},
     "output_type": "execute_result"
    }
   ],
   "source": [
    "gs_tvec.best_score_"
   ]
  },
  {
   "cell_type": "code",
   "execution_count": 130,
   "metadata": {},
   "outputs": [
    {
     "data": {
      "text/plain": [
       "{'lr__random_state': 123,\n",
       " 'lr__solver': 'liblinear',\n",
       " 'tvec__max_features': 5000,\n",
       " 'tvec__ngram_range': (1, 1),\n",
       " 'tvec__stop_words': 'english'}"
      ]
     },
     "execution_count": 130,
     "metadata": {},
     "output_type": "execute_result"
    }
   ],
   "source": [
    "gs_tvec.best_params_"
   ]
  },
  {
   "cell_type": "code",
   "execution_count": 131,
   "metadata": {},
   "outputs": [
    {
     "data": {
      "text/plain": [
       "0.9789545145960624"
      ]
     },
     "execution_count": 131,
     "metadata": {},
     "output_type": "execute_result"
    }
   ],
   "source": [
    "# Find the score of the model on training dataset\n",
    "\n",
    "gs_tvec.score(X_train, y_train)"
   ]
  },
  {
   "cell_type": "code",
   "execution_count": 132,
   "metadata": {},
   "outputs": [
    {
     "data": {
      "text/plain": [
       "0.9263657957244655"
      ]
     },
     "execution_count": 132,
     "metadata": {},
     "output_type": "execute_result"
    }
   ],
   "source": [
    "# Find the score of the model on test dataset\n",
    "\n",
    "gs_tvec.score(X_test, y_test)"
   ]
  },
  {
   "cell_type": "markdown",
   "metadata": {},
   "source": [
    "Using TFIDF we see that our model gives us a better test score thus reducing overfitting. Both test and train scores are better than the baseline scores and are thus acceptable.\n"
   ]
  },
  {
   "cell_type": "code",
   "execution_count": 133,
   "metadata": {},
   "outputs": [
    {
     "name": "stdout",
     "output_type": "stream",
     "text": [
      "tp: 622\n",
      "fn: 20\n",
      "tn: 548\n",
      "fp: 73\n"
     ]
    }
   ],
   "source": [
    "# Get predictions\n",
    "preds = gs_tvec.predict(X_test)\n",
    "\n",
    "# Save confusion matrix values\n",
    "tn, fp, fn, tp = confusion_matrix(y_test, preds).ravel()\n",
    "\n",
    "print(f\"tp: {tp}\")\n",
    "print(f\"fn: {fn}\")\n",
    "print(f\"tn: {tn}\")\n",
    "print(f\"fp: {fp}\")"
   ]
  },
  {
   "cell_type": "code",
   "execution_count": 134,
   "metadata": {},
   "outputs": [
    {
     "data": {
      "image/png": "[encoded data removed]",
      "text/plain": [
       "<Figure size 432x288 with 2 Axes>"
      ]
     },
     "metadata": {
      "needs_background": "light"
     },
     "output_type": "display_data"
    }
   ],
   "source": [
    "# View confusion matrix\n",
    "\n",
    "cf = plot_confusion_matrix(gs_tvec, X_test, y_test, display_labels=['marvelstudios', 'DC_Cinematic'], cmap='Greens', values_format='d');\n"
   ]
  },
  {
   "cell_type": "code",
   "execution_count": 135,
   "metadata": {},
   "outputs": [
    {
     "name": "stdout",
     "output_type": "stream",
     "text": [
      "accuracy: 0.9263657957244655\n",
      "sensitivity: 0.9688473520249221\n",
      "specificity: 0.8824476650563607\n"
     ]
    }
   ],
   "source": [
    "# Calculate Accuracy and Sensitivity (Recall)\n",
    "\n",
    "accuracy = (tp + tn)/(tp + fp + tn + fn)\n",
    "print(f'accuracy: {accuracy}')\n",
    "\n",
    "sensitivity = tp / (tp + fn) # Positive - marvel, Negative - DC\n",
    "print(f'sensitivity: {sensitivity}')\n",
    "\n",
    "specificity = tn / (tn + fp)\n",
    "print(f'specificity: {specificity}')\n"
   ]
  },
  {
   "cell_type": "markdown",
   "metadata": {},
   "source": [
    "We see that the difference between sensitivity (true positive rate) and specificity(true negative rate) has reduced, giving us a more balanced model which can predict both classes accurately. "
   ]
  },
  {
   "cell_type": "code",
   "execution_count": 259,
   "metadata": {},
   "outputs": [
    {
     "data": {
      "image/png": "[encoded data removed]",
      "text/plain": [
       "<Figure size 432x288 with 1 Axes>"
      ]
     },
     "metadata": {
      "needs_background": "light"
     },
     "output_type": "display_data"
    },
    {
     "data": {
      "text/plain": [
       "0.9846255913234107"
      ]
     },
     "execution_count": 259,
     "metadata": {},
     "output_type": "execute_result"
    }
   ],
   "source": [
    "auc = plot_roc_auc_curve(gs_tvec, X_test, y_test)\n",
    "auc"
   ]
  },
  {
   "cell_type": "markdown",
   "metadata": {},
   "source": [
    "AUC of this model is better than the one with CountVectorizer, and quite close to 1 which shows a high measure of separability i.e. capability of the model to distinguish between the two classes is quite high. "
   ]
  },
  {
   "cell_type": "code",
   "execution_count": 137,
   "metadata": {},
   "outputs": [
    {
     "data": {
      "text/plain": [
       "(1, 5000)"
      ]
     },
     "execution_count": 137,
     "metadata": {},
     "output_type": "execute_result"
    }
   ],
   "source": [
    "gs_tvec.best_estimator_.named_steps.lr.coef_.shape"
   ]
  },
  {
   "cell_type": "markdown",
   "metadata": {},
   "source": [
    "### Finding the top predictors"
   ]
  },
  {
   "cell_type": "code",
   "execution_count": 138,
   "metadata": {},
   "outputs": [],
   "source": [
    "df_coef_marvel, df_coef_DC = get_important_features_lr(gs_tvec.best_estimator_.named_steps.tvec, gs_tvec.best_estimator_.named_steps.lr, 20)\n"
   ]
  },
  {
   "cell_type": "code",
   "execution_count": 139,
   "metadata": {},
   "outputs": [
    {
     "data": {
      "image/png": "[encoded data removed]",
      "text/plain": [
       "<Figure size 576x720 with 2 Axes>"
      ]
     },
     "metadata": {
      "needs_background": "light"
     },
     "output_type": "display_data"
    }
   ],
   "source": [
    "plot_important_words(df_coef_marvel, df_coef_DC, title=\"Top 20 predictors using TF-IDF + Logistic Regression model\")\n",
    "    "
   ]
  },
  {
   "cell_type": "markdown",
   "metadata": {},
   "source": [
    "# CountVectorizer + Random Forests "
   ]
  },
  {
   "cell_type": "code",
   "execution_count": 140,
   "metadata": {},
   "outputs": [],
   "source": [
    "# Set up a pipeline with count vectorizer and Random Forests\n",
    "\n",
    "pipe_vec2 = Pipeline([\n",
    "    ('cvec', CountVectorizer()),\n",
    "    ('rf', RandomForestClassifier())\n",
    "])"
   ]
  },
  {
   "cell_type": "code",
   "execution_count": 141,
   "metadata": {},
   "outputs": [],
   "source": [
    "# Search over the following values of hyperparameters:\n",
    "# Maximum number of features fit: 3000\n",
    "# Minimum number of documents needed to include token: 2, 3\n",
    "# Maximum number of documents needed to include token: 90%, 95%\n",
    "# Check (individual tokens) and also check (individual tokens and 2-grams).\n",
    "\n",
    "# RandomForests: \n",
    "# No of trees in the random forest: 100, 150, 200\n",
    "# Max depth: 1, 2, 3\n",
    "pipe_vec2_params = {\n",
    "    'cvec__max_features': [5_000],\n",
    "    'cvec__min_df': [2, 3],\n",
    "    'cvec__max_df': [.9, .85],\n",
    "    'cvec__ngram_range': [(1,1), (1,2)],\n",
    "    'rf__n_estimators': [150, 200, 250],\n",
    "    'rf__max_depth': [None,4]\n",
    "}"
   ]
  },
  {
   "cell_type": "code",
   "execution_count": 142,
   "metadata": {},
   "outputs": [
    {
     "data": {
      "text/plain": [
       "GridSearchCV(cv=5,\n",
       "             estimator=Pipeline(steps=[('cvec', CountVectorizer()),\n",
       "                                       ('rf', RandomForestClassifier())]),\n",
       "             param_grid={'cvec__max_df': [0.9, 0.85],\n",
       "                         'cvec__max_features': [5000], 'cvec__min_df': [2, 3],\n",
       "                         'cvec__ngram_range': [(1, 1), (1, 2)],\n",
       "                         'rf__max_depth': [None, 4],\n",
       "                         'rf__n_estimators': [150, 200, 250]})"
      ]
     },
     "execution_count": 142,
     "metadata": {},
     "output_type": "execute_result"
    }
   ],
   "source": [
    "\n",
    "# Instantiate GridSearchCV.\n",
    "gs_vec2 = GridSearchCV(pipe_vec2, # what object are we optimizing?\n",
    "                        param_grid = pipe_vec2_params, # what parameters values are we searching?\n",
    "                        cv=5) # 5-fold cross-validation.\n",
    "\n",
    "gs_vec2"
   ]
  },
  {
   "cell_type": "code",
   "execution_count": 143,
   "metadata": {},
   "outputs": [
    {
     "data": {
      "text/plain": [
       "GridSearchCV(cv=5,\n",
       "             estimator=Pipeline(steps=[('cvec', CountVectorizer()),\n",
       "                                       ('rf', RandomForestClassifier())]),\n",
       "             param_grid={'cvec__max_df': [0.9, 0.85],\n",
       "                         'cvec__max_features': [5000], 'cvec__min_df': [2, 3],\n",
       "                         'cvec__ngram_range': [(1, 1), (1, 2)],\n",
       "                         'rf__max_depth': [None, 4],\n",
       "                         'rf__n_estimators': [150, 200, 250]})"
      ]
     },
     "execution_count": 143,
     "metadata": {},
     "output_type": "execute_result"
    }
   ],
   "source": [
    "\n",
    "# Fit GridSearch to training data.\n",
    "gs_vec2.fit(X_train, y_train)"
   ]
  },
  {
   "cell_type": "code",
   "execution_count": 160,
   "metadata": {},
   "outputs": [
    {
     "data": {
      "text/plain": [
       "0.9205714943454865"
      ]
     },
     "execution_count": 160,
     "metadata": {},
     "output_type": "execute_result"
    }
   ],
   "source": [
    "gs_vec2.best_score_"
   ]
  },
  {
   "cell_type": "code",
   "execution_count": 161,
   "metadata": {},
   "outputs": [
    {
     "data": {
      "text/plain": [
       "{'cvec__max_df': 0.85,\n",
       " 'cvec__max_features': 5000,\n",
       " 'cvec__min_df': 2,\n",
       " 'cvec__ngram_range': (1, 1),\n",
       " 'rf__max_depth': None,\n",
       " 'rf__n_estimators': 250}"
      ]
     },
     "execution_count": 161,
     "metadata": {},
     "output_type": "execute_result"
    }
   ],
   "source": [
    "gs_vec2.best_params_"
   ]
  },
  {
   "cell_type": "code",
   "execution_count": 162,
   "metadata": {},
   "outputs": [
    {
     "data": {
      "text/plain": [
       "0.9959266802443992"
      ]
     },
     "execution_count": 162,
     "metadata": {},
     "output_type": "execute_result"
    }
   ],
   "source": [
    "gs_vec2.score(X_train, y_train)"
   ]
  },
  {
   "cell_type": "code",
   "execution_count": 163,
   "metadata": {},
   "outputs": [
    {
     "data": {
      "text/plain": [
       "0.9231987331749802"
      ]
     },
     "execution_count": 163,
     "metadata": {},
     "output_type": "execute_result"
    }
   ],
   "source": [
    "gs_vec2.score(X_test, y_test)"
   ]
  },
  {
   "cell_type": "code",
   "execution_count": 164,
   "metadata": {},
   "outputs": [
    {
     "name": "stdout",
     "output_type": "stream",
     "text": [
      "tp: 610\n",
      "fn: 32\n",
      "tn: 556\n",
      "fp: 65\n"
     ]
    }
   ],
   "source": [
    "# Get predictions\n",
    "preds = gs_vec2.predict(X_test)\n",
    "\n",
    "# Save confusion matrix values\n",
    "tn, fp, fn, tp = confusion_matrix(y_test, preds).ravel()\n",
    "\n",
    "print(f\"tp: {tp}\")\n",
    "print(f\"fn: {fn}\")\n",
    "print(f\"tn: {tn}\")\n",
    "print(f\"fp: {fp}\")"
   ]
  },
  {
   "cell_type": "code",
   "execution_count": 165,
   "metadata": {},
   "outputs": [
    {
     "data": {
      "image/png": "[encoded data removed]",
      "text/plain": [
       "<Figure size 432x288 with 2 Axes>"
      ]
     },
     "metadata": {
      "needs_background": "light"
     },
     "output_type": "display_data"
    }
   ],
   "source": [
    "# View confusion matrix\n",
    "\n",
    "cf = plot_confusion_matrix(gs_vec2, X_test, y_test, display_labels=['marvelstudios', 'DC_Cinematic'], cmap='Greens', values_format='d');\n"
   ]
  },
  {
   "cell_type": "code",
   "execution_count": 166,
   "metadata": {},
   "outputs": [
    {
     "name": "stdout",
     "output_type": "stream",
     "text": [
      "accuracy: 0.9231987331749802\n",
      "sensitivity: 0.9501557632398754\n",
      "specificity: 0.895330112721417\n"
     ]
    }
   ],
   "source": [
    "# Calculate Accuracy and Sensitivity (Recall)\n",
    "\n",
    "accuracy = (tp + tn)/(tp + fp + tn + fn)\n",
    "print(f'accuracy: {accuracy}')\n",
    "\n",
    "sensitivity = tp / (tp + fn) # Positive - marvel, Negative - DC\n",
    "print(f'sensitivity: {sensitivity}')\n",
    "\n",
    "specificity = tn / (tn + fp)\n",
    "print(f'specificity: {specificity}')"
   ]
  },
  {
   "cell_type": "code",
   "execution_count": 261,
   "metadata": {},
   "outputs": [
    {
     "data": {
      "image/png": "[encoded data removed]",
      "text/plain": [
       "<Figure size 432x288 with 1 Axes>"
      ]
     },
     "metadata": {
      "needs_background": "light"
     },
     "output_type": "display_data"
    },
    {
     "data": {
      "text/plain": [
       "0.9783047641980326"
      ]
     },
     "execution_count": 261,
     "metadata": {},
     "output_type": "execute_result"
    }
   ],
   "source": [
    "auc = plot_roc_auc_curve(gs_vec2, X_test, y_test)\n",
    "auc"
   ]
  },
  {
   "cell_type": "markdown",
   "metadata": {},
   "source": [
    "# TF-IDF Vectorizer + Random Forests "
   ]
  },
  {
   "cell_type": "code",
   "execution_count": 168,
   "metadata": {},
   "outputs": [],
   "source": [
    "# Set up a pipeline with tf-idf vectorizer and RandomForestClassifier\n",
    "\n",
    "pipe_tvec2 = Pipeline([\n",
    "    ('tvec', TfidfVectorizer()),\n",
    "    ('rf', RandomForestClassifier())\n",
    "])"
   ]
  },
  {
   "cell_type": "code",
   "execution_count": 169,
   "metadata": {},
   "outputs": [],
   "source": [
    "# Search over the following values of hyperparameters:\n",
    "# Maximum number of features fit: 5000\n",
    "# English stop words\n",
    "# Check (individual tokens) and also check (individual tokens and 2-grams).\n",
    "\n",
    "pipe_tvec2_params = {\n",
    "    'tvec__max_features': [5_000],\n",
    "    'tvec__stop_words': ['english'],\n",
    "    'tvec__ngram_range': [(1,1), (1,2)],\n",
    "    'rf__n_estimators': [100, 150, 200],\n",
    "    'rf__max_depth': [None,4],\n",
    "    'rf__random_state': [123]\n",
    "}"
   ]
  },
  {
   "cell_type": "code",
   "execution_count": 170,
   "metadata": {},
   "outputs": [],
   "source": [
    "# Instantiate GridSearchCV.\n",
    "gs_tvec2 = GridSearchCV(pipe_tvec2, # what object are we optimizing?\n",
    "                        param_grid = pipe_tvec2_params, # what parameters values are we searching?\n",
    "                        cv=5) # 5-fold cross-validation."
   ]
  },
  {
   "cell_type": "code",
   "execution_count": 171,
   "metadata": {},
   "outputs": [
    {
     "data": {
      "text/plain": [
       "GridSearchCV(cv=5,\n",
       "             estimator=Pipeline(steps=[('tvec', TfidfVectorizer()),\n",
       "                                       ('rf', RandomForestClassifier())]),\n",
       "             param_grid={'rf__max_depth': [None, 4],\n",
       "                         'rf__n_estimators': [100, 150, 200],\n",
       "                         'rf__random_state': [123],\n",
       "                         'tvec__max_features': [5000],\n",
       "                         'tvec__ngram_range': [(1, 1), (1, 2)],\n",
       "                         'tvec__stop_words': ['english']})"
      ]
     },
     "execution_count": 171,
     "metadata": {},
     "output_type": "execute_result"
    }
   ],
   "source": [
    "# Fit GridSearch to training data.\n",
    "gs_tvec2.fit(X_train, y_train)"
   ]
  },
  {
   "cell_type": "code",
   "execution_count": 172,
   "metadata": {},
   "outputs": [
    {
     "data": {
      "text/plain": [
       "0.9209122039653537"
      ]
     },
     "execution_count": 172,
     "metadata": {},
     "output_type": "execute_result"
    }
   ],
   "source": [
    "gs_tvec2.best_score_"
   ]
  },
  {
   "cell_type": "code",
   "execution_count": 173,
   "metadata": {},
   "outputs": [
    {
     "data": {
      "text/plain": [
       "{'rf__max_depth': None,\n",
       " 'rf__n_estimators': 150,\n",
       " 'rf__random_state': 123,\n",
       " 'tvec__max_features': 5000,\n",
       " 'tvec__ngram_range': (1, 2),\n",
       " 'tvec__stop_words': 'english'}"
      ]
     },
     "execution_count": 173,
     "metadata": {},
     "output_type": "execute_result"
    }
   ],
   "source": [
    "gs_tvec2.best_params_"
   ]
  },
  {
   "cell_type": "code",
   "execution_count": 174,
   "metadata": {},
   "outputs": [
    {
     "data": {
      "text/plain": [
       "0.994908350305499"
      ]
     },
     "execution_count": 174,
     "metadata": {},
     "output_type": "execute_result"
    }
   ],
   "source": [
    "gs_tvec2.score(X_train, y_train)"
   ]
  },
  {
   "cell_type": "code",
   "execution_count": 175,
   "metadata": {},
   "outputs": [
    {
     "data": {
      "text/plain": [
       "0.9152810768012668"
      ]
     },
     "execution_count": 175,
     "metadata": {},
     "output_type": "execute_result"
    }
   ],
   "source": [
    "gs_tvec2.score(X_test, y_test)"
   ]
  },
  {
   "cell_type": "code",
   "execution_count": 176,
   "metadata": {},
   "outputs": [
    {
     "name": "stdout",
     "output_type": "stream",
     "text": [
      "tp: 624\n",
      "fn: 18\n",
      "tn: 532\n",
      "fp: 89\n"
     ]
    }
   ],
   "source": [
    "# Get predictions\n",
    "preds = gs_tvec2.predict(X_test)\n",
    "\n",
    "# Save confusion matrix values\n",
    "tn, fp, fn, tp = confusion_matrix(y_test, preds).ravel()\n",
    "\n",
    "print(f\"tp: {tp}\")\n",
    "print(f\"fn: {fn}\")\n",
    "print(f\"tn: {tn}\")\n",
    "print(f\"fp: {fp}\")"
   ]
  },
  {
   "cell_type": "code",
   "execution_count": 177,
   "metadata": {},
   "outputs": [
    {
     "data": {
      "image/png": "[encoded data removed]",
      "text/plain": [
       "<Figure size 432x288 with 2 Axes>"
      ]
     },
     "metadata": {
      "needs_background": "light"
     },
     "output_type": "display_data"
    }
   ],
   "source": [
    "# View confusion matrix\n",
    "\n",
    "cf = plot_confusion_matrix(gs_tvec2, X_test, y_test, display_labels=['marvelstudios', 'DC_Cinematic'], cmap='Greens', values_format='d');\n",
    "\n"
   ]
  },
  {
   "cell_type": "code",
   "execution_count": 178,
   "metadata": {},
   "outputs": [
    {
     "name": "stdout",
     "output_type": "stream",
     "text": [
      "accuracy: 0.9152810768012668\n",
      "sensitivity: 0.9719626168224299\n",
      "specificity: 0.856682769726248\n"
     ]
    }
   ],
   "source": [
    "# Calculate Accuracy and Sensitivity (Recall)\n",
    "\n",
    "accuracy = (tp + tn)/(tp + fp + tn + fn)\n",
    "print(f'accuracy: {accuracy}')\n",
    "\n",
    "sensitivity = tp / (tp + fn) # Positive - marvel, Negative - DC\n",
    "print(f'sensitivity: {sensitivity}')\n",
    "\n",
    "specificity = tn / (tn + fp)\n",
    "print(f'specificity: {specificity}')"
   ]
  },
  {
   "cell_type": "code",
   "execution_count": 262,
   "metadata": {},
   "outputs": [
    {
     "data": {
      "image/png": "[encoded data removed]",
      "text/plain": [
       "<Figure size 432x288 with 1 Axes>"
      ]
     },
     "metadata": {
      "needs_background": "light"
     },
     "output_type": "display_data"
    },
    {
     "data": {
      "text/plain": [
       "0.9789945369994131"
      ]
     },
     "execution_count": 262,
     "metadata": {},
     "output_type": "execute_result"
    }
   ],
   "source": [
    "auc = plot_roc_auc_curve(gs_tvec2, X_test, y_test)\n",
    "auc"
   ]
  },
  {
   "cell_type": "code",
   "execution_count": 180,
   "metadata": {},
   "outputs": [
    {
     "data": {
      "text/html": [
       "<div>\n",
       "<style scoped>\n",
       "    .dataframe tbody tr th:only-of-type {\n",
       "        vertical-align: middle;\n",
       "    }\n",
       "\n",
       "    .dataframe tbody tr th {\n",
       "        vertical-align: top;\n",
       "    }\n",
       "\n",
       "    .dataframe thead th {\n",
       "        text-align: right;\n",
       "    }\n",
       "</style>\n",
       "<table border=\"1\" class=\"dataframe\">\n",
       "  <thead>\n",
       "    <tr style=\"text-align: right;\">\n",
       "      <th></th>\n",
       "      <th>imp</th>\n",
       "    </tr>\n",
       "  </thead>\n",
       "  <tbody>\n",
       "    <tr>\n",
       "      <th>0</th>\n",
       "      <td>0.0</td>\n",
       "    </tr>\n",
       "    <tr>\n",
       "      <th>2485</th>\n",
       "      <td>0.0</td>\n",
       "    </tr>\n",
       "    <tr>\n",
       "      <th>2479</th>\n",
       "      <td>0.0</td>\n",
       "    </tr>\n",
       "    <tr>\n",
       "      <th>2473</th>\n",
       "      <td>0.0</td>\n",
       "    </tr>\n",
       "    <tr>\n",
       "      <th>2468</th>\n",
       "      <td>0.0</td>\n",
       "    </tr>\n",
       "    <tr>\n",
       "      <th>2467</th>\n",
       "      <td>0.0</td>\n",
       "    </tr>\n",
       "    <tr>\n",
       "      <th>2460</th>\n",
       "      <td>0.0</td>\n",
       "    </tr>\n",
       "    <tr>\n",
       "      <th>2457</th>\n",
       "      <td>0.0</td>\n",
       "    </tr>\n",
       "    <tr>\n",
       "      <th>2454</th>\n",
       "      <td>0.0</td>\n",
       "    </tr>\n",
       "    <tr>\n",
       "      <th>2451</th>\n",
       "      <td>0.0</td>\n",
       "    </tr>\n",
       "    <tr>\n",
       "      <th>2442</th>\n",
       "      <td>0.0</td>\n",
       "    </tr>\n",
       "    <tr>\n",
       "      <th>2440</th>\n",
       "      <td>0.0</td>\n",
       "    </tr>\n",
       "    <tr>\n",
       "      <th>2432</th>\n",
       "      <td>0.0</td>\n",
       "    </tr>\n",
       "    <tr>\n",
       "      <th>2430</th>\n",
       "      <td>0.0</td>\n",
       "    </tr>\n",
       "    <tr>\n",
       "      <th>2428</th>\n",
       "      <td>0.0</td>\n",
       "    </tr>\n",
       "    <tr>\n",
       "      <th>2427</th>\n",
       "      <td>0.0</td>\n",
       "    </tr>\n",
       "    <tr>\n",
       "      <th>2424</th>\n",
       "      <td>0.0</td>\n",
       "    </tr>\n",
       "    <tr>\n",
       "      <th>2419</th>\n",
       "      <td>0.0</td>\n",
       "    </tr>\n",
       "    <tr>\n",
       "      <th>2409</th>\n",
       "      <td>0.0</td>\n",
       "    </tr>\n",
       "    <tr>\n",
       "      <th>2398</th>\n",
       "      <td>0.0</td>\n",
       "    </tr>\n",
       "  </tbody>\n",
       "</table>\n",
       "</div>"
      ],
      "text/plain": [
       "      imp\n",
       "0     0.0\n",
       "2485  0.0\n",
       "2479  0.0\n",
       "2473  0.0\n",
       "2468  0.0\n",
       "2467  0.0\n",
       "2460  0.0\n",
       "2457  0.0\n",
       "2454  0.0\n",
       "2451  0.0\n",
       "2442  0.0\n",
       "2440  0.0\n",
       "2432  0.0\n",
       "2430  0.0\n",
       "2428  0.0\n",
       "2427  0.0\n",
       "2424  0.0\n",
       "2419  0.0\n",
       "2409  0.0\n",
       "2398  0.0"
      ]
     },
     "execution_count": 180,
     "metadata": {},
     "output_type": "execute_result"
    }
   ],
   "source": [
    "pd.DataFrame(gs_tvec2.best_estimator_.named_steps.rf.feature_importances_, columns=['imp']).sort_values(by='imp', ascending=True)[:20]\n"
   ]
  },
  {
   "cell_type": "code",
   "execution_count": null,
   "metadata": {},
   "outputs": [],
   "source": []
  },
  {
   "cell_type": "markdown",
   "metadata": {},
   "source": [
    "# CountVectorizer + Naive Bayes"
   ]
  },
  {
   "cell_type": "code",
   "execution_count": 187,
   "metadata": {},
   "outputs": [],
   "source": [
    "pipe_vec3 = Pipeline([\n",
    "    ('cvec', CountVectorizer()),\n",
    "    ('nb', MultinomialNB())\n",
    "])"
   ]
  },
  {
   "cell_type": "code",
   "execution_count": 188,
   "metadata": {},
   "outputs": [],
   "source": [
    "# Search over the following values of hyperparameters:\n",
    "# Maximum number of features fit: 2000, 3000, 4000, 5000\n",
    "# Minimum number of documents needed to include token: 2, 3\n",
    "# Maximum number of documents needed to include token: 90%, 95%\n",
    "# Check (individual tokens) and also check (individual tokens and 2-grams).\n",
    "\n",
    "pipe_params_vec3 = {\n",
    "    'cvec__max_features': [2_000, 3_000, 4_000],\n",
    "    'cvec__min_df': [2,3],\n",
    "    'cvec__max_df': [0.85, .9, .95],\n",
    "    'cvec__ngram_range': [(1,1), (1,2)],\n",
    "}"
   ]
  },
  {
   "cell_type": "code",
   "execution_count": 189,
   "metadata": {},
   "outputs": [],
   "source": [
    "# Instantiate GridSearchCV.\n",
    "\n",
    "gs_vec3 = GridSearchCV(pipe_vec3, \n",
    "                  param_grid=pipe_params_vec3, \n",
    "                  cv=5) "
   ]
  },
  {
   "cell_type": "code",
   "execution_count": 190,
   "metadata": {},
   "outputs": [
    {
     "data": {
      "text/plain": [
       "GridSearchCV(cv=5,\n",
       "             estimator=Pipeline(steps=[('cvec', CountVectorizer()),\n",
       "                                       ('nb', MultinomialNB())]),\n",
       "             param_grid={'cvec__max_df': [0.85, 0.9, 0.95],\n",
       "                         'cvec__max_features': [2000, 3000, 4000],\n",
       "                         'cvec__min_df': [2, 3],\n",
       "                         'cvec__ngram_range': [(1, 1), (1, 2)]})"
      ]
     },
     "execution_count": 190,
     "metadata": {},
     "output_type": "execute_result"
    }
   ],
   "source": [
    "# Fit GridSearch to training data.\n",
    "gs_vec3.fit(X_train, y_train)"
   ]
  },
  {
   "cell_type": "code",
   "execution_count": 191,
   "metadata": {},
   "outputs": [
    {
     "data": {
      "text/plain": [
       "0.9236275215101724"
      ]
     },
     "execution_count": 191,
     "metadata": {},
     "output_type": "execute_result"
    }
   ],
   "source": [
    "# Find the cross_val_score of the model\n",
    "gs_vec3.best_score_"
   ]
  },
  {
   "cell_type": "code",
   "execution_count": 192,
   "metadata": {},
   "outputs": [
    {
     "data": {
      "text/plain": [
       "0.9433129667345553"
      ]
     },
     "execution_count": 192,
     "metadata": {},
     "output_type": "execute_result"
    }
   ],
   "source": [
    "# Find the score of the model on training dataset\n",
    "\n",
    "gs_vec3.score(X_train, y_train)"
   ]
  },
  {
   "cell_type": "code",
   "execution_count": 193,
   "metadata": {},
   "outputs": [
    {
     "data": {
      "text/plain": [
       "0.9295328582739509"
      ]
     },
     "execution_count": 193,
     "metadata": {},
     "output_type": "execute_result"
    }
   ],
   "source": [
    "# Find the score of the model on test dataset\n",
    "\n",
    "gs_vec3.score(X_test, y_test)"
   ]
  },
  {
   "cell_type": "code",
   "execution_count": 194,
   "metadata": {},
   "outputs": [
    {
     "data": {
      "text/plain": [
       "{'cvec__max_df': 0.85,\n",
       " 'cvec__max_features': 4000,\n",
       " 'cvec__min_df': 2,\n",
       " 'cvec__ngram_range': (1, 2)}"
      ]
     },
     "execution_count": 194,
     "metadata": {},
     "output_type": "execute_result"
    }
   ],
   "source": [
    "gs_vec3.best_params_"
   ]
  },
  {
   "cell_type": "code",
   "execution_count": 195,
   "metadata": {},
   "outputs": [
    {
     "name": "stdout",
     "output_type": "stream",
     "text": [
      "tp: 609\n",
      "fn: 33\n",
      "tn: 565\n",
      "fp: 56\n"
     ]
    }
   ],
   "source": [
    "# Get predictions\n",
    "preds = gs_vec3.predict(X_test)\n",
    "\n",
    "# Save confusion matrix values\n",
    "tn, fp, fn, tp = confusion_matrix(y_test, preds).ravel()\n",
    "\n",
    "print(f\"tp: {tp}\")\n",
    "print(f\"fn: {fn}\")\n",
    "print(f\"tn: {tn}\")\n",
    "print(f\"fp: {fp}\")"
   ]
  },
  {
   "cell_type": "code",
   "execution_count": 197,
   "metadata": {},
   "outputs": [
    {
     "data": {
      "image/png": "[encoded data removed]",
      "text/plain": [
       "<Figure size 432x288 with 2 Axes>"
      ]
     },
     "metadata": {
      "needs_background": "light"
     },
     "output_type": "display_data"
    }
   ],
   "source": [
    "# View confusion matrix\n",
    "\n",
    "plot_confusion_matrix(gs_vec3, X_test, y_test, display_labels=['marvelstudios', 'DC_Cinematic'], cmap='Greens', values_format='d');\n"
   ]
  },
  {
   "cell_type": "markdown",
   "metadata": {},
   "source": [
    "Our model can preddict subreddits for DC_Cinematic slightly more accurately than mervelstudios. "
   ]
  },
  {
   "cell_type": "code",
   "execution_count": 198,
   "metadata": {},
   "outputs": [
    {
     "name": "stdout",
     "output_type": "stream",
     "text": [
      "accuracy: 0.9295328582739509\n",
      "sensitivity: 0.9485981308411215\n",
      "specificity: 0.9098228663446055\n"
     ]
    }
   ],
   "source": [
    "# Calculate Accuracy, Sensitivity and Specificity\n",
    "\n",
    "accuracy = (tp + tn)/(tp + fp + tn + fn)\n",
    "print(f'accuracy: {accuracy}')\n",
    "\n",
    "sensitivity = tp / (tp + fn) #aka True positive rate i.e. rate of getting true DC subreddit\n",
    "print(f'sensitivity: {sensitivity}')\n",
    "\n",
    "specificity = tn / (tn + fp) #aka True negative rate i.e. rate of getting true marvel subreddit\n",
    "print(f'specificity: {specificity}')\n"
   ]
  },
  {
   "cell_type": "code",
   "execution_count": 265,
   "metadata": {},
   "outputs": [
    {
     "data": {
      "image/png": "[encoded data removed]",
      "text/plain": [
       "<Figure size 432x288 with 1 Axes>"
      ]
     },
     "metadata": {
      "needs_background": "light"
     },
     "output_type": "display_data"
    },
    {
     "data": {
      "text/plain": [
       "0.9834078287958823"
      ]
     },
     "execution_count": 265,
     "metadata": {},
     "output_type": "execute_result"
    }
   ],
   "source": [
    "auc = plot_roc_auc_curve(gs_vec3, X_test, y_test)\n",
    "auc"
   ]
  },
  {
   "cell_type": "markdown",
   "metadata": {},
   "source": [
    "# TFIDFVectorizer + Logistic Regression"
   ]
  },
  {
   "cell_type": "code",
   "execution_count": 199,
   "metadata": {},
   "outputs": [],
   "source": [
    "# Set up a pipeline with tf-idf vectorizer and LogisticRegression\n",
    "\n",
    "pipe_tvec3 = Pipeline([\n",
    "    ('tvec', TfidfVectorizer()),\n",
    "    ('nb', MultinomialNB())\n",
    "])"
   ]
  },
  {
   "cell_type": "code",
   "execution_count": 200,
   "metadata": {},
   "outputs": [],
   "source": [
    "# Search over the following values of hyperparameters:\n",
    "# Maximum number of features fit: 5000\n",
    "# English stop words\n",
    "# Check (individual tokens) and also check (individual tokens and 2-grams).\n",
    "\n",
    "pipe_tvec_params3 = {\n",
    "    'tvec__max_features': [3_000, 4_000, 5_000],\n",
    "    'tvec__stop_words': [None, 'english'],\n",
    "    'tvec__ngram_range': [(1,1), (2,2)]\n",
    "}"
   ]
  },
  {
   "cell_type": "code",
   "execution_count": 201,
   "metadata": {},
   "outputs": [],
   "source": [
    "# Instantiate GridSearchCV.\n",
    "gs_tvec3 = GridSearchCV(pipe_tvec3, # what object are we optimizing?\n",
    "                        param_grid = pipe_tvec_params3, # what parameters values are we searching?\n",
    "                        cv=5) # 5-fold cross-validation."
   ]
  },
  {
   "cell_type": "code",
   "execution_count": 202,
   "metadata": {},
   "outputs": [
    {
     "data": {
      "text/plain": [
       "GridSearchCV(cv=5,\n",
       "             estimator=Pipeline(steps=[('tvec', TfidfVectorizer()),\n",
       "                                       ('nb', MultinomialNB())]),\n",
       "             param_grid={'tvec__max_features': [3000, 4000, 5000],\n",
       "                         'tvec__ngram_range': [(1, 1), (2, 2)],\n",
       "                         'tvec__stop_words': [None, 'english']})"
      ]
     },
     "execution_count": 202,
     "metadata": {},
     "output_type": "execute_result"
    }
   ],
   "source": [
    "# Fit the pipeline model\n",
    "gs_tvec3.fit(X_train, y_train)"
   ]
  },
  {
   "cell_type": "code",
   "execution_count": 204,
   "metadata": {},
   "outputs": [
    {
     "data": {
      "text/plain": [
       "0.9300802854594112"
      ]
     },
     "execution_count": 204,
     "metadata": {},
     "output_type": "execute_result"
    }
   ],
   "source": [
    "# Cross Validated Score of the best estimator\n",
    "gs_tvec3.best_score_"
   ]
  },
  {
   "cell_type": "code",
   "execution_count": 205,
   "metadata": {},
   "outputs": [
    {
     "data": {
      "text/plain": [
       "{'tvec__max_features': 3000,\n",
       " 'tvec__ngram_range': (1, 1),\n",
       " 'tvec__stop_words': 'english'}"
      ]
     },
     "execution_count": 205,
     "metadata": {},
     "output_type": "execute_result"
    }
   ],
   "source": [
    "gs_tvec3.best_params_"
   ]
  },
  {
   "cell_type": "code",
   "execution_count": 206,
   "metadata": {},
   "outputs": [
    {
     "data": {
      "text/plain": [
       "0.9680923285811269"
      ]
     },
     "execution_count": 206,
     "metadata": {},
     "output_type": "execute_result"
    }
   ],
   "source": [
    "# Find the score of the model on training dataset\n",
    "\n",
    "gs_tvec3.score(X_train, y_train)"
   ]
  },
  {
   "cell_type": "code",
   "execution_count": 207,
   "metadata": {},
   "outputs": [
    {
     "data": {
      "text/plain": [
       "0.9334916864608076"
      ]
     },
     "execution_count": 207,
     "metadata": {},
     "output_type": "execute_result"
    }
   ],
   "source": [
    "# Find the score of the model on test dataset\n",
    "\n",
    "gs_tvec3.score(X_test, y_test)"
   ]
  },
  {
   "cell_type": "code",
   "execution_count": 208,
   "metadata": {},
   "outputs": [
    {
     "name": "stdout",
     "output_type": "stream",
     "text": [
      "tp: 607\n",
      "fn: 35\n",
      "tn: 572\n",
      "fp: 49\n"
     ]
    }
   ],
   "source": [
    "# Get predictions\n",
    "preds = gs_tvec3.predict(X_test)\n",
    "\n",
    "# Save confusion matrix values\n",
    "tn, fp, fn, tp = confusion_matrix(y_test, preds).ravel()\n",
    "\n",
    "print(f\"tp: {tp}\")\n",
    "print(f\"fn: {fn}\")\n",
    "print(f\"tn: {tn}\")\n",
    "print(f\"fp: {fp}\")"
   ]
  },
  {
   "cell_type": "code",
   "execution_count": 209,
   "metadata": {},
   "outputs": [
    {
     "data": {
      "image/png": "[encoded data removed]",
      "text/plain": [
       "<Figure size 432x288 with 2 Axes>"
      ]
     },
     "metadata": {
      "needs_background": "light"
     },
     "output_type": "display_data"
    }
   ],
   "source": [
    "# View confusion matrix\n",
    "\n",
    "cf = plot_confusion_matrix(gs_tvec3, X_test, y_test, display_labels=['marvelstudios', 'DC_Cinematic'], cmap='Greens', values_format='d');\n"
   ]
  },
  {
   "cell_type": "code",
   "execution_count": 210,
   "metadata": {},
   "outputs": [
    {
     "name": "stdout",
     "output_type": "stream",
     "text": [
      "accuracy: 0.9334916864608076\n",
      "sensitivity: 0.9454828660436138\n",
      "specificity: 0.9210950080515298\n"
     ]
    }
   ],
   "source": [
    "# Calculate Accuracy and Sensitivity (Recall)\n",
    "\n",
    "accuracy = (tp + tn)/(tp + fp + tn + fn)\n",
    "print(f'accuracy: {accuracy}')\n",
    "\n",
    "sensitivity = tp / (tp + fn) # Positive - marvel, Negative - DC\n",
    "print(f'sensitivity: {sensitivity}')\n",
    "\n",
    "specificity = tn / (tn + fp)\n",
    "print(f'specificity: {specificity}')"
   ]
  },
  {
   "cell_type": "code",
   "execution_count": 266,
   "metadata": {},
   "outputs": [
    {
     "data": {
      "image/png": "[encoded data removed]",
      "text/plain": [
       "<Figure size 432x288 with 1 Axes>"
      ]
     },
     "metadata": {
      "needs_background": "light"
     },
     "output_type": "display_data"
    },
    {
     "data": {
      "text/plain": [
       "0.9827907956717384"
      ]
     },
     "execution_count": 266,
     "metadata": {},
     "output_type": "execute_result"
    }
   ],
   "source": [
    "auc = plot_roc_auc_curve(gs_tvec3, X_test, y_test)\n",
    "auc"
   ]
  },
  {
   "cell_type": "code",
   "execution_count": null,
   "metadata": {},
   "outputs": [],
   "source": []
  }
 ],
 "metadata": {
  "kernelspec": {
   "display_name": "Python 3",
   "language": "python",
   "name": "python3"
  },
  "language_info": {
   "codemirror_mode": {
    "name": "ipython",
    "version": 3
   },
   "file_extension": ".py",
   "mimetype": "text/x-python",
   "name": "python",
   "nbconvert_exporter": "python",
   "pygments_lexer": "ipython3",
   "version": "3.7.7"
  }
 },
 "nbformat": 4,
 "nbformat_minor": 4
}
