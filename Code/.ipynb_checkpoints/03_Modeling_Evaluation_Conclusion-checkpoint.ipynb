{
 "cells": [
  {
   "cell_type": "code",
   "execution_count": 193,
   "metadata": {},
   "outputs": [],
   "source": [
    "import pandas as pd\n",
    "import requests\n",
    "from bs4 import BeautifulSoup\n",
    "import numpy as np\n",
    "import seaborn as sns\n",
    "import matplotlib.pyplot as plt\n",
    "\n",
    "from nltk.stem.porter import PorterStemmer\n",
    "from nltk.stem import WordNetLemmatizer\n",
    "from nltk.tokenize import word_tokenize, RegexpTokenizer\n",
    "from nltk.corpus import stopwords\n",
    "from gensim.models.word2vec import Word2Vec\n",
    "from sklearn.pipeline import Pipeline\n",
    "from collections import Counter\n",
    "\n",
    "from sklearn.model_selection import train_test_split, GridSearchCV\n",
    "from sklearn.feature_extraction.text import CountVectorizer, TfidfVectorizer\n",
    "from sklearn.linear_model import LogisticRegression\n",
    "from sklearn.metrics import confusion_matrix, plot_confusion_matrix, f1_score, roc_auc_score, roc_curve, make_scorer, accuracy_score, classification_report\n",
    "from sklearn.ensemble import RandomForestClassifier\n",
    "from sklearn.naive_bayes import MultinomialNB\n",
    "\n",
    "import warnings"
   ]
  },
  {
   "cell_type": "code",
   "execution_count": 194,
   "metadata": {},
   "outputs": [],
   "source": [
    "# Ignoring warnings because there are some warnings related to SettingWithCopyWarning \n",
    "# inspite of using the correct code (.loc[row_indexer,col_indexer] = value)\n",
    "\n",
    "warnings.simplefilter('ignore') "
   ]
  },
  {
   "cell_type": "markdown",
   "metadata": {},
   "source": [
    "## Read Data from .csv file where the pre-processed data is stored"
   ]
  },
  {
   "cell_type": "code",
   "execution_count": 195,
   "metadata": {},
   "outputs": [],
   "source": [
    "df_marvel = pd.read_csv('../data/marvel.csv')"
   ]
  },
  {
   "cell_type": "code",
   "execution_count": 196,
   "metadata": {},
   "outputs": [],
   "source": [
    "df_DC = pd.read_csv('../data/DC.csv')"
   ]
  },
  {
   "cell_type": "code",
   "execution_count": 197,
   "metadata": {},
   "outputs": [],
   "source": [
    "df_marv_dc_1 = pd.read_csv('../data/df_marv_dc_1.csv')"
   ]
  },
  {
   "cell_type": "code",
   "execution_count": 198,
   "metadata": {},
   "outputs": [
    {
     "data": {
      "text/plain": [
       "(4209, 11)"
      ]
     },
     "execution_count": 198,
     "metadata": {},
     "output_type": "execute_result"
    }
   ],
   "source": [
    "df_marv_dc_1.shape"
   ]
  },
  {
   "cell_type": "code",
   "execution_count": 199,
   "metadata": {},
   "outputs": [
    {
     "data": {
      "text/plain": [
       "Index(['title_desc', 'subreddit', 'tokens', 'tokens_len', 'tokens_nostop',\n",
       "       'tokens_lemmatized', 'tokens_lem_len', 'tokens_stemmed',\n",
       "       'tokens_stem_len', 'title_desc_new', 'title_desc_new_stem'],\n",
       "      dtype='object')"
      ]
     },
     "execution_count": 199,
     "metadata": {},
     "output_type": "execute_result"
    }
   ],
   "source": [
    "df_marv_dc_1.columns"
   ]
  },
  {
   "cell_type": "code",
   "execution_count": 200,
   "metadata": {},
   "outputs": [
    {
     "data": {
      "text/html": [
       "<div>\n",
       "<style scoped>\n",
       "    .dataframe tbody tr th:only-of-type {\n",
       "        vertical-align: middle;\n",
       "    }\n",
       "\n",
       "    .dataframe tbody tr th {\n",
       "        vertical-align: top;\n",
       "    }\n",
       "\n",
       "    .dataframe thead th {\n",
       "        text-align: right;\n",
       "    }\n",
       "</style>\n",
       "<table border=\"1\" class=\"dataframe\">\n",
       "  <thead>\n",
       "    <tr style=\"text-align: right;\">\n",
       "      <th></th>\n",
       "      <th>title_desc</th>\n",
       "      <th>subreddit</th>\n",
       "      <th>tokens</th>\n",
       "      <th>tokens_len</th>\n",
       "      <th>tokens_nostop</th>\n",
       "      <th>tokens_lemmatized</th>\n",
       "      <th>tokens_lem_len</th>\n",
       "      <th>tokens_stemmed</th>\n",
       "      <th>tokens_stem_len</th>\n",
       "      <th>title_desc_new</th>\n",
       "      <th>title_desc_new_stem</th>\n",
       "    </tr>\n",
       "  </thead>\n",
       "  <tbody>\n",
       "    <tr>\n",
       "      <th>0</th>\n",
       "      <td>Hey i just realized something, Ant-man Black P...</td>\n",
       "      <td>marvelstudios</td>\n",
       "      <td>['hey', 'just', 'realized', 'something', 'ant'...</td>\n",
       "      <td>32</td>\n",
       "      <td>['hey', 'realized', 'something', 'ant', 'black...</td>\n",
       "      <td>['hey', 'realized', 'something', 'ant', 'black...</td>\n",
       "      <td>22</td>\n",
       "      <td>['hey', 'realiz', 'someth', 'ant', 'black', 'p...</td>\n",
       "      <td>22</td>\n",
       "      <td>hey realized something ant black panther wasp ...</td>\n",
       "      <td>hey realiz someth ant black panther wasp aveng...</td>\n",
       "    </tr>\n",
       "    <tr>\n",
       "      <th>1</th>\n",
       "      <td>Talking Loki</td>\n",
       "      <td>marvelstudios</td>\n",
       "      <td>['talking', 'loki']</td>\n",
       "      <td>2</td>\n",
       "      <td>['talking', 'loki']</td>\n",
       "      <td>['talking', 'loki']</td>\n",
       "      <td>2</td>\n",
       "      <td>['talk', 'loki']</td>\n",
       "      <td>2</td>\n",
       "      <td>talking loki</td>\n",
       "      <td>talk loki</td>\n",
       "    </tr>\n",
       "    <tr>\n",
       "      <th>2</th>\n",
       "      <td>\"What? I'm invested.\" | Darcy Lewis Portrait D...</td>\n",
       "      <td>marvelstudios</td>\n",
       "      <td>['what', 'invested', 'darcy', 'lewis', 'portra...</td>\n",
       "      <td>9</td>\n",
       "      <td>['invested', 'darcy', 'lewis', 'portrait', 'ka...</td>\n",
       "      <td>['invested', 'darcy', 'lewis', 'portrait', 'ka...</td>\n",
       "      <td>7</td>\n",
       "      <td>['invest', 'darci', 'lewi', 'portrait', 'kat',...</td>\n",
       "      <td>7</td>\n",
       "      <td>invested darcy lewis portrait kat dennings wan...</td>\n",
       "      <td>invest darci lewi portrait kat den wandavis</td>\n",
       "    </tr>\n",
       "    <tr>\n",
       "      <th>3</th>\n",
       "      <td>Natasha : Daughter of Alexei. In Infinity War,...</td>\n",
       "      <td>marvelstudios</td>\n",
       "      <td>['natasha', 'daughter', 'of', 'alexei', 'in', ...</td>\n",
       "      <td>107</td>\n",
       "      <td>['natasha', 'daughter', 'alexei', 'infinity', ...</td>\n",
       "      <td>['natasha', 'daughter', 'alexei', 'infinity', ...</td>\n",
       "      <td>109</td>\n",
       "      <td>['natasha', 'daughter', 'alexei', 'infin', 'wa...</td>\n",
       "      <td>109</td>\n",
       "      <td>natasha daughter alexei infinity war thanos ga...</td>\n",
       "      <td>natasha daughter alexei infin war thano gamora...</td>\n",
       "    </tr>\n",
       "    <tr>\n",
       "      <th>4</th>\n",
       "      <td>(Insert Loki Theory here)…Well yeah...</td>\n",
       "      <td>marvelstudios</td>\n",
       "      <td>['insert', 'loki', 'theory', 'here', 'well', '...</td>\n",
       "      <td>6</td>\n",
       "      <td>['insert', 'loki', 'theory', 'well', 'yeah']</td>\n",
       "      <td>['insert', 'loki', 'theory', 'well', 'yeah']</td>\n",
       "      <td>5</td>\n",
       "      <td>['insert', 'loki', 'theori', 'well', 'yeah']</td>\n",
       "      <td>5</td>\n",
       "      <td>insert loki theory well yeah</td>\n",
       "      <td>insert loki theori well yeah</td>\n",
       "    </tr>\n",
       "  </tbody>\n",
       "</table>\n",
       "</div>"
      ],
      "text/plain": [
       "                                          title_desc      subreddit  \\\n",
       "0  Hey i just realized something, Ant-man Black P...  marvelstudios   \n",
       "1                                      Talking Loki   marvelstudios   \n",
       "2  \"What? I'm invested.\" | Darcy Lewis Portrait D...  marvelstudios   \n",
       "3  Natasha : Daughter of Alexei. In Infinity War,...  marvelstudios   \n",
       "4            (Insert Loki Theory here)…Well yeah...   marvelstudios   \n",
       "\n",
       "                                              tokens  tokens_len  \\\n",
       "0  ['hey', 'just', 'realized', 'something', 'ant'...          32   \n",
       "1                                ['talking', 'loki']           2   \n",
       "2  ['what', 'invested', 'darcy', 'lewis', 'portra...           9   \n",
       "3  ['natasha', 'daughter', 'of', 'alexei', 'in', ...         107   \n",
       "4  ['insert', 'loki', 'theory', 'here', 'well', '...           6   \n",
       "\n",
       "                                       tokens_nostop  \\\n",
       "0  ['hey', 'realized', 'something', 'ant', 'black...   \n",
       "1                                ['talking', 'loki']   \n",
       "2  ['invested', 'darcy', 'lewis', 'portrait', 'ka...   \n",
       "3  ['natasha', 'daughter', 'alexei', 'infinity', ...   \n",
       "4       ['insert', 'loki', 'theory', 'well', 'yeah']   \n",
       "\n",
       "                                   tokens_lemmatized  tokens_lem_len  \\\n",
       "0  ['hey', 'realized', 'something', 'ant', 'black...              22   \n",
       "1                                ['talking', 'loki']               2   \n",
       "2  ['invested', 'darcy', 'lewis', 'portrait', 'ka...               7   \n",
       "3  ['natasha', 'daughter', 'alexei', 'infinity', ...             109   \n",
       "4       ['insert', 'loki', 'theory', 'well', 'yeah']               5   \n",
       "\n",
       "                                      tokens_stemmed  tokens_stem_len  \\\n",
       "0  ['hey', 'realiz', 'someth', 'ant', 'black', 'p...               22   \n",
       "1                                   ['talk', 'loki']                2   \n",
       "2  ['invest', 'darci', 'lewi', 'portrait', 'kat',...                7   \n",
       "3  ['natasha', 'daughter', 'alexei', 'infin', 'wa...              109   \n",
       "4       ['insert', 'loki', 'theori', 'well', 'yeah']                5   \n",
       "\n",
       "                                      title_desc_new  \\\n",
       "0  hey realized something ant black panther wasp ...   \n",
       "1                                       talking loki   \n",
       "2  invested darcy lewis portrait kat dennings wan...   \n",
       "3  natasha daughter alexei infinity war thanos ga...   \n",
       "4                       insert loki theory well yeah   \n",
       "\n",
       "                                 title_desc_new_stem  \n",
       "0  hey realiz someth ant black panther wasp aveng...  \n",
       "1                                          talk loki  \n",
       "2        invest darci lewi portrait kat den wandavis  \n",
       "3  natasha daughter alexei infin war thano gamora...  \n",
       "4                       insert loki theori well yeah  "
      ]
     },
     "execution_count": 200,
     "metadata": {},
     "output_type": "execute_result"
    }
   ],
   "source": [
    "df_marv_dc_1.head()"
   ]
  },
  {
   "cell_type": "markdown",
   "metadata": {},
   "source": [
    "# 3. Modelling"
   ]
  },
  {
   "cell_type": "markdown",
   "metadata": {},
   "source": [
    " Rubric TBD  \n",
    " \n",
    " Preprocessing and Modeling\n",
    "\n",
    " <s>Is text data successfully converted to a matrix representation?</s><br>\n",
    " <s>Are methods such as stop words, stemming, and lemmatization explored?</s>\n",
    " <s>Does the student properly split and/or sample the data for validation/training purposes?</s><br>\n",
    " <s>Does the student test and evaluate a variety of models to identify a production algorithm (AT MINIMUM: Random Forest and one other model)?</s><br>\n",
    " <s>Does the student defend their choice of production model relevant to the data at hand and the problem?</s><br>\n",
    " <s>Does the student explain how the model works and evaluate its performance successes/downfalls?</s><br>\n",
    "\n",
    " Evaluation and Conceptual Understanding\n",
    "\n",
    " <s>Does the student accurately identify and explain the baseline score?</s><br>\n",
    " <s>Does the student select and use metrics relevant to the problem objective?</s><br>\n",
    " Does the student interpret the results of their model for purposes of inference?<br>\n",
    " Is domain knowledge demonstrated when interpreting results?<br>\n",
    " Does the student provide appropriate interpretation with regards to descriptive and inferential statistics?<br>"
   ]
  },
  {
   "cell_type": "markdown",
   "metadata": {},
   "source": [
    "###  Baseline Accuracy"
   ]
  },
  {
   "cell_type": "code",
   "execution_count": 201,
   "metadata": {},
   "outputs": [
    {
     "data": {
      "text/plain": [
       "DC_Cinematic     0.508434\n",
       "marvelstudios    0.491566\n",
       "Name: subreddit, dtype: float64"
      ]
     },
     "execution_count": 201,
     "metadata": {},
     "output_type": "execute_result"
    }
   ],
   "source": [
    "df_marv_dc_1['subreddit'].value_counts(normalize=True)"
   ]
  },
  {
   "cell_type": "markdown",
   "metadata": {},
   "source": [
    "As the proportion of posts between marvel and DC is around 50.8% to 49.2% the baseline accuracy of our model will be 0.508. This is because even if we predict all posts to be from marvel, even then we will be 50.8% accurate. So our model should at the very least do better than this score. "
   ]
  },
  {
   "cell_type": "markdown",
   "metadata": {},
   "source": [
    "### Let's define X, y and do a train test split"
   ]
  },
  {
   "cell_type": "code",
   "execution_count": 202,
   "metadata": {},
   "outputs": [
    {
     "data": {
      "text/plain": [
       "title_desc              0\n",
       "subreddit               0\n",
       "tokens                  0\n",
       "tokens_len              0\n",
       "tokens_nostop           0\n",
       "tokens_lemmatized       0\n",
       "tokens_lem_len          0\n",
       "tokens_stemmed          0\n",
       "tokens_stem_len         0\n",
       "title_desc_new         25\n",
       "title_desc_new_stem    25\n",
       "dtype: int64"
      ]
     },
     "execution_count": 202,
     "metadata": {},
     "output_type": "execute_result"
    }
   ],
   "source": [
    "df_marv_dc_1.isna().sum()"
   ]
  },
  {
   "cell_type": "code",
   "execution_count": 203,
   "metadata": {},
   "outputs": [],
   "source": [
    "# We replace the NA values in title_desc_new and title_desc_new_stem \n",
    "# with blank strings (due to pre-processing)\n",
    "df_marv_dc_1 = df_marv_dc_1.fillna('')\n"
   ]
  },
  {
   "cell_type": "code",
   "execution_count": 204,
   "metadata": {},
   "outputs": [],
   "source": [
    "# Set X and y variables. We map DC_Cinematic subreddit as 1 and marvelstudios as 0\n",
    "X = df_marv_dc_1['title_desc_new']\n",
    "y = df_marv_dc_1['subreddit'].map({'marvelstudios':0, 'DC_Cinematic':1})\n"
   ]
  },
  {
   "cell_type": "code",
   "execution_count": 205,
   "metadata": {},
   "outputs": [],
   "source": [
    "X_train, X_test, y_train, y_test = train_test_split(X, y, test_size=0.3, stratify=y, random_state=123)"
   ]
  },
  {
   "cell_type": "markdown",
   "metadata": {},
   "source": [
    "### Some functions to help modelling"
   ]
  },
  {
   "cell_type": "code",
   "execution_count": 206,
   "metadata": {},
   "outputs": [],
   "source": [
    "def plot_roc_auc_curve(model, X_test_values, y_test_values):\n",
    "    \n",
    "    y_pred_proba = model.predict_proba(X_test_values)[:,1]\n",
    "    fpr, tpr, _ = roc_curve(y_test_values,  y_pred_proba)\n",
    "    auc = roc_auc_score(y_test_values, y_pred_proba)\n",
    "    \n",
    "    plt.plot(fpr,tpr,label=\"data, auc=\" + str(round(auc,4)))\n",
    "    plt.title(\"ROC Curve\")\n",
    "    plt.xlabel('Specificity')\n",
    "    plt.ylabel('Sensitivity')\n",
    "    plt.plot([0, 1], [0, 1], label='baseline', linestyle='--')\n",
    "    plt.legend(loc=4)\n",
    "    plt.show()\n",
    "    \n",
    "    return auc\n"
   ]
  },
  {
   "cell_type": "code",
   "execution_count": 207,
   "metadata": {},
   "outputs": [],
   "source": [
    "def analyse_model_performance(model, X_train_values, y_train_values, X_test_values, y_test_values):\n",
    "    \n",
    "    \n",
    "    # Get predictions\n",
    "    preds = model.predict(X_test_values)\n",
    "\n",
    "    # Save confusion matrix values\n",
    "    tn, fp, fn, tp = confusion_matrix(y_test_values, preds).ravel()\n",
    "\n",
    "    dict_scores = {'model': str(model.estimator.steps),\n",
    "                'cross_val_score': model.best_score_, \n",
    "                'train_auc_score': model.score(X_train_values, y_train_values),\n",
    "                'test_auc_score': model.score(X_test_values, y_test_values),\n",
    "                'train_accuracy_score': accuracy_score(y_train_values, model.predict(X_train_values)),\n",
    "                'test_accuracy_score': accuracy_score(y_test_values, model.predict(X_test_values)),               \n",
    "                'sensitivity': tp / (tp + fn),\n",
    "                'specificity': tn / (tn + fp)\n",
    "              }\n",
    "\n",
    "    print(f\"****Best Params****: \\n{model.best_params_}\\n\")\n",
    "    print(f\"****Cross Val Score****: \\n{dict_scores['cross_val_score']}\\n\")\n",
    "    print(f\"****Train AUC Score****: \\n{dict_scores['train_auc_score']}\\n\")\n",
    "    print(f\"****Test AUC Score ****: \\n{dict_scores['test_auc_score']}\\n\")\n",
    "    print(f\"****Train Accuracy Score****: \\n{dict_scores['train_accuracy_score']}\\n\")\n",
    "    print(f\"****Test Accuracy Score ****: \\n{dict_scores['test_accuracy_score']}\\n\")\n",
    "    print(f\"****Sensitivity****: \\n{dict_scores['sensitivity']}\\n\")    \n",
    "    print(f\"****Specificity****: \\n{dict_scores['specificity']}\\n\")\n",
    "\n",
    "    plt.figure(figsize=(9,9));\n",
    "    cf = plot_confusion_matrix(model, X_test_values, y_test_values, display_labels=['marvelstudios', 'DC_Cinematic'], cmap='Blues', values_format='d');\n",
    "    plt.show();\n",
    "    \n",
    "    plt.figure(figsize=(6,6));\n",
    "    auc = plot_roc_auc_curve(model, X_test, y_test);\n",
    "    plt.show();\n",
    "    \n",
    "    return dict_scores\n"
   ]
  },
  {
   "cell_type": "code",
   "execution_count": 208,
   "metadata": {},
   "outputs": [],
   "source": [
    "# Get most important words based on coefficients of the logistic regression model\n",
    "def get_important_features_lr(vectoriser, estimator, n):\n",
    "    feature_names = pd.DataFrame(vectoriser.get_feature_names(), columns=['feature_name'])    \n",
    "    \n",
    "    df_coef = pd.DataFrame(estimator.coef_)\n",
    "    df_coef = df_coef.T\n",
    "    \n",
    "    df_coef = pd.concat([df_coef, feature_names], axis=1)    \n",
    "    df_coef = df_coef.rename(columns={0:'value'})    \n",
    "        \n",
    "    return df_coef.sort_values(by='value', ascending=True)[:20], df_coef.sort_values(by='value', ascending=False)[:20]"
   ]
  },
  {
   "cell_type": "code",
   "execution_count": 209,
   "metadata": {},
   "outputs": [],
   "source": [
    "# plot most important words passed in the two datasets\n",
    "def plot_important_words(df_coef1, df_coef2, title=\"\"):\n",
    "    fig, axes = plt.subplots(nrows=1, ncols=2)\n",
    "    fig.suptitle(title, y=0.93)\n",
    "\n",
    "    plot1 = df_coef1.sort_values(by='value', ascending=False)[:20].plot(kind='barh', y='value', x='feature_name', \n",
    "                                                                     ax=axes[0], figsize=(12,10), label='_', \n",
    "                                                                       fontsize=12, color='salmon');\n",
    "    plot1.set_xlabel('Importance', fontsize=12)\n",
    "    plot1.set_ylabel('Words', fontsize=12)\n",
    "    plot1.set_title('Marvel Studios')\n",
    "    \n",
    "    plot2 = df_coef2.sort_values(by='value', ascending=True)[:20].plot(kind='barh', y='value', \n",
    "                                                                  x='feature_name', fontsize=12,\n",
    "                                                             ax=axes[1], figsize=(12,10),label='_', \n",
    "                                                                        color='skyblue');\n",
    "\n",
    "    plot2.set_xlabel('Importance', fontsize=12)\n",
    "    plot2.set_ylabel('Words', fontsize=12)\n",
    "    plot2.set_title('DC Cinematic')\n",
    "\n",
    "    plt.subplots_adjust(wspace=0.8)\n",
    "    plt.show()"
   ]
  },
  {
   "cell_type": "markdown",
   "metadata": {},
   "source": [
    "## a. CountVectorizer + Logistic Regression"
   ]
  },
  {
   "cell_type": "code",
   "execution_count": 210,
   "metadata": {},
   "outputs": [],
   "source": [
    "pipe = Pipeline([\n",
    "    ('cvec', CountVectorizer()),\n",
    "    ('lr', LogisticRegression())\n",
    "])"
   ]
  },
  {
   "cell_type": "code",
   "execution_count": 211,
   "metadata": {},
   "outputs": [],
   "source": [
    "# Search over the following values of hyperparameters:\n",
    "# Maximum number of features fit: 2000, 3000, 4000, 5000\n",
    "# Minimum number of documents needed to include token: 2, 3\n",
    "# Maximum number of documents needed to include token: 90%, 95%\n",
    "# Check (individual tokens) and also check (individual tokens and 2-grams).\n",
    "\n",
    "pipe_params = {\n",
    "    'cvec__max_features': [4_000],\n",
    "    'cvec__min_df': [2],\n",
    "    'cvec__max_df': [.85, .9],\n",
    "    'cvec__ngram_range': [(1,1), (1,2)],\n",
    "    'lr__C': np.logspace(-2, 2, 50),\n",
    "    'lr__solver': ['liblinear'],\n",
    "    'lr__random_state': [123],\n",
    "    'lr__penalty': ['l1','l2'],\n",
    "    'lr__random_state': [123]\n",
    "}\n",
    "scoring={'AUC': 'roc_auc', 'Accuracy':make_scorer(accuracy_score)}"
   ]
  },
  {
   "cell_type": "code",
   "execution_count": 212,
   "metadata": {},
   "outputs": [],
   "source": [
    "# Instantiate GridSearchCV.\n",
    "\n",
    "gs = GridSearchCV(pipe, # what object are we optimizing?\n",
    "                  param_grid=pipe_params, # what parameters values are we searching?\n",
    "                  cv=5, scoring=scoring, refit='AUC') # 5-fold cross-validation.\n"
   ]
  },
  {
   "cell_type": "code",
   "execution_count": 213,
   "metadata": {},
   "outputs": [
    {
     "data": {
      "text/plain": [
       "GridSearchCV(cv=5,\n",
       "             estimator=Pipeline(steps=[('cvec', CountVectorizer()),\n",
       "                                       ('lr', LogisticRegression())]),\n",
       "             param_grid={'cvec__max_df': [0.85, 0.9],\n",
       "                         'cvec__max_features': [4000], 'cvec__min_df': [2],\n",
       "                         'cvec__ngram_range': [(1, 1), (1, 2)],\n",
       "                         'lr__C': array([1.00000000e-02, 1.20679264e-02, 1.45634848e-02, 1.75751062e-02,\n",
       "       2.12095089e-02, 2.55954792e-02, 3.08884360e-02, 3.72759372...\n",
       "       8.68511374e+00, 1.04811313e+01, 1.26485522e+01, 1.52641797e+01,\n",
       "       1.84206997e+01, 2.22299648e+01, 2.68269580e+01, 3.23745754e+01,\n",
       "       3.90693994e+01, 4.71486636e+01, 5.68986603e+01, 6.86648845e+01,\n",
       "       8.28642773e+01, 1.00000000e+02]),\n",
       "                         'lr__penalty': ['l1', 'l2'], 'lr__random_state': [123],\n",
       "                         'lr__solver': ['liblinear']},\n",
       "             refit='AUC',\n",
       "             scoring={'AUC': 'roc_auc',\n",
       "                      'Accuracy': make_scorer(accuracy_score)})"
      ]
     },
     "execution_count": 213,
     "metadata": {},
     "output_type": "execute_result"
    }
   ],
   "source": [
    "# Fit GridSearch to training data.\n",
    "gs.fit(X_train, y_train)"
   ]
  },
  {
   "cell_type": "code",
   "execution_count": 265,
   "metadata": {},
   "outputs": [
    {
     "name": "stdout",
     "output_type": "stream",
     "text": [
      "****Best Params****: \n",
      "{'cvec__max_df': 0.85, 'cvec__max_features': 4000, 'cvec__min_df': 2, 'cvec__ngram_range': (1, 2), 'lr__C': 0.04498432668969444, 'lr__penalty': 'l2', 'lr__random_state': 123, 'lr__solver': 'liblinear'}\n",
      "\n",
      "****Cross Val Score****: \n",
      "0.979380839045476\n",
      "\n",
      "****Train AUC Score****: \n",
      "0.9942849674335578\n",
      "\n",
      "****Test AUC Score ****: \n",
      "0.9817736943227936\n",
      "\n",
      "****Train Accuracy Score****: \n",
      "0.9080108621860149\n",
      "\n",
      "****Test Accuracy Score ****: \n",
      "0.8709422011084719\n",
      "\n",
      "****Sensitivity****: \n",
      "0.9937694704049844\n",
      "\n",
      "****Specificity****: \n",
      "0.7439613526570048\n",
      "\n"
     ]
    },
    {
     "data": {
      "text/plain": [
       "<Figure size 648x648 with 0 Axes>"
      ]
     },
     "metadata": {},
     "output_type": "display_data"
    },
    {
     "data": {
      "image/png": "[encoded data removed]",
      "text/plain": [
       "<Figure size 432x288 with 2 Axes>"
      ]
     },
     "metadata": {
      "needs_background": "light"
     },
     "output_type": "display_data"
    },
    {
     "data": {
      "image/png": "[encoded data removed]",
      "text/plain": [
       "<Figure size 432x432 with 1 Axes>"
      ]
     },
     "metadata": {
      "needs_background": "light"
     },
     "output_type": "display_data"
    }
   ],
   "source": [
    "score_dict = {}\n",
    "score_dict = analyse_model_performance(gs, X_train, y_train, X_test, y_test)\n",
    "score_dict['model'] =\"CountVec + Logistic Regression\"\n",
    "scores = []\n",
    "scores.append(score_dict)\n"
   ]
  },
  {
   "cell_type": "markdown",
   "metadata": {},
   "source": [
    "We see that the training score and test score are quite high, and much higher than the baseline. However the test score is more than 5% lower than the train score, showing evidence of overfitting. "
   ]
  },
  {
   "cell_type": "markdown",
   "metadata": {},
   "source": [
    "The model considers DC as a positive result and marvel as a negative result. Sensitivity rate shows true positive rate i.e. the rate of getting correct DC predictions. And the specificity shows the rate of getting correct Marvel predictions. \n",
    "\n",
    "The sensitivity and specificity scores also indicate that our model predicts true positives (in our case DC_Cinematic subreddits) at a slightly higher rate than true negatives (in our case mervelstudios subreddits) as the sensitivity is higher than specificity."
   ]
  },
  {
   "cell_type": "markdown",
   "metadata": {},
   "source": [
    "AUC of the model is quite close to 1 which shows a high measure of separability i.e. capability of the model to distinguish between the two classes is quite high. "
   ]
  },
  {
   "cell_type": "markdown",
   "metadata": {},
   "source": [
    "### Which Metrics to focus on?\n",
    "The classification problem that we are trying to solve has two classes which we would like the model to predict equally well. i.e. we do not have a preference for getting either True Positives or True Negatives more accurately. Hence in this case Accuracy is the chosen metric that we will use to evaluate our model. In addition AUC will be used to gauge the separability of the two classes in each model. "
   ]
  },
  {
   "cell_type": "markdown",
   "metadata": {},
   "source": [
    "### Finding the top predictors"
   ]
  },
  {
   "cell_type": "code",
   "execution_count": 215,
   "metadata": {},
   "outputs": [],
   "source": [
    "df_coef_marvel, df_coef_DC = get_important_features_lr(gs.best_estimator_.named_steps.cvec, gs.best_estimator_.named_steps.lr, 20)\n"
   ]
  },
  {
   "cell_type": "code",
   "execution_count": 216,
   "metadata": {},
   "outputs": [
    {
     "data": {
      "image/png": "[encoded data removed]",
      "text/plain": [
       "<Figure size 864x720 with 2 Axes>"
      ]
     },
     "metadata": {
      "needs_background": "light"
     },
     "output_type": "display_data"
    }
   ],
   "source": [
    "plot_important_words(df_coef_marvel, df_coef_DC, title=\"Top 20 predictors using CVEC + Logistic Regression model\")\n"
   ]
  },
  {
   "cell_type": "markdown",
   "metadata": {},
   "source": [
    "The top 20 predictors of the model show that model is giving importance to the right words relevant to Marvel and DC characters. We can see that the model gives more importance to 1-gram words rather than 2-gram words, as we had specified both 1 gram and 2 gram ranges in the GridSearchCV. "
   ]
  },
  {
   "cell_type": "markdown",
   "metadata": {},
   "source": [
    "## b. TFIDFVectorizer + Logistic Regression"
   ]
  },
  {
   "cell_type": "code",
   "execution_count": 217,
   "metadata": {},
   "outputs": [],
   "source": [
    "# Set up a pipeline with tf-idf vectorizer and LogisticRegression\n",
    "\n",
    "pipe_tvec = Pipeline([\n",
    "    ('tvec', TfidfVectorizer()),\n",
    "    ('lr', LogisticRegression())\n",
    "])"
   ]
  },
  {
   "cell_type": "code",
   "execution_count": 218,
   "metadata": {},
   "outputs": [],
   "source": [
    "# Search over the following values of hyperparameters:\n",
    "# Maximum number of features fit: 5000\n",
    "# English stop words\n",
    "# Check (individual tokens) and also check (individual tokens and 2-grams).\n",
    "\n",
    "pipe_tvec_params = {\n",
    "    'tvec__max_features': [3_000, 4_000],\n",
    "    'tvec__stop_words': ['english'],\n",
    "    'tvec__ngram_range': [(1,1), (2,2)],\n",
    "    'lr__C': np.logspace(-2, 2, 50),\n",
    "    'lr__solver': ['liblinear', 'lbfgs'],\n",
    "    'lr__penalty': ['l1','l2'],\n",
    "    'lr__random_state': [123]\n",
    "}\n",
    "\n",
    "scoring={'AUC': 'roc_auc', 'Accuracy':make_scorer(accuracy_score)}"
   ]
  },
  {
   "cell_type": "code",
   "execution_count": 219,
   "metadata": {},
   "outputs": [],
   "source": [
    "# Instantiate GridSearchCV.\n",
    "gs_tvec = GridSearchCV(pipe_tvec, # what object are we optimizing?\n",
    "                        param_grid = pipe_tvec_params, # what parameters values are we searching?\n",
    "                        cv=5, scoring=scoring, refit='AUC') # 5-fold cross-validation."
   ]
  },
  {
   "cell_type": "code",
   "execution_count": 220,
   "metadata": {
    "scrolled": true
   },
   "outputs": [
    {
     "data": {
      "text/plain": [
       "GridSearchCV(cv=5,\n",
       "             estimator=Pipeline(steps=[('tvec', TfidfVectorizer()),\n",
       "                                       ('lr', LogisticRegression())]),\n",
       "             param_grid={'lr__C': array([1.00000000e-02, 1.20679264e-02, 1.45634848e-02, 1.75751062e-02,\n",
       "       2.12095089e-02, 2.55954792e-02, 3.08884360e-02, 3.72759372e-02,\n",
       "       4.49843267e-02, 5.42867544e-02, 6.55128557e-02, 7.90604321e-02,\n",
       "       9.54095476e-02, 1.15139540e-01, 1.38949549e-...\n",
       "       3.90693994e+01, 4.71486636e+01, 5.68986603e+01, 6.86648845e+01,\n",
       "       8.28642773e+01, 1.00000000e+02]),\n",
       "                         'lr__penalty': ['l1', 'l2'], 'lr__random_state': [123],\n",
       "                         'lr__solver': ['liblinear', 'lbfgs'],\n",
       "                         'tvec__max_features': [3000, 4000],\n",
       "                         'tvec__ngram_range': [(1, 1), (2, 2)],\n",
       "                         'tvec__stop_words': ['english']},\n",
       "             refit='AUC',\n",
       "             scoring={'AUC': 'roc_auc',\n",
       "                      'Accuracy': make_scorer(accuracy_score)})"
      ]
     },
     "execution_count": 220,
     "metadata": {},
     "output_type": "execute_result"
    }
   ],
   "source": [
    "\n",
    "# Fit GridSearch to training data.\n",
    "gs_tvec.fit(X_train, y_train)"
   ]
  },
  {
   "cell_type": "code",
   "execution_count": 266,
   "metadata": {
    "scrolled": false
   },
   "outputs": [
    {
     "name": "stdout",
     "output_type": "stream",
     "text": [
      "****Best Params****: \n",
      "{'lr__C': 0.6250551925273969, 'lr__penalty': 'l2', 'lr__random_state': 123, 'lr__solver': 'liblinear', 'tvec__max_features': 4000, 'tvec__ngram_range': (1, 1), 'tvec__stop_words': 'english'}\n",
      "\n",
      "****Cross Val Score****: \n",
      "0.9824036620630329\n",
      "\n",
      "****Train AUC Score****: \n",
      "0.9972721455494988\n",
      "\n",
      "****Test AUC Score ****: \n",
      "0.9839521222427899\n",
      "\n",
      "****Train Accuracy Score****: \n",
      "0.9670739986422268\n",
      "\n",
      "****Test Accuracy Score ****: \n",
      "0.9184481393507522\n",
      "\n",
      "****Sensitivity****: \n",
      "0.9735202492211839\n",
      "\n",
      "****Specificity****: \n",
      "0.8615136876006442\n",
      "\n"
     ]
    },
    {
     "data": {
      "text/plain": [
       "<Figure size 648x648 with 0 Axes>"
      ]
     },
     "metadata": {},
     "output_type": "display_data"
    },
    {
     "data": {
      "image/png": "[encoded data removed]",
      "text/plain": [
       "<Figure size 432x288 with 2 Axes>"
      ]
     },
     "metadata": {
      "needs_background": "light"
     },
     "output_type": "display_data"
    },
    {
     "data": {
      "image/png": "[encoded data removed]",
      "text/plain": [
       "<Figure size 432x432 with 1 Axes>"
      ]
     },
     "metadata": {
      "needs_background": "light"
     },
     "output_type": "display_data"
    },
    {
     "data": {
      "text/plain": [
       "[{'model': 'CountVec + Logistic Regression',\n",
       "  'cross_val_score': 0.979380839045476,\n",
       "  'train_auc_score': 0.9942849674335578,\n",
       "  'test_auc_score': 0.9817736943227936,\n",
       "  'train_accuracy_score': 0.9080108621860149,\n",
       "  'test_accuracy_score': 0.8709422011084719,\n",
       "  'sensitivity': 0.9937694704049844,\n",
       "  'specificity': 0.7439613526570048},\n",
       " {'model': 'TF-IDFVec + Logistic Regression',\n",
       "  'cross_val_score': 0.9824036620630329,\n",
       "  'train_auc_score': 0.9972721455494988,\n",
       "  'test_auc_score': 0.9839521222427899,\n",
       "  'train_accuracy_score': 0.9670739986422268,\n",
       "  'test_accuracy_score': 0.9184481393507522,\n",
       "  'sensitivity': 0.9735202492211839,\n",
       "  'specificity': 0.8615136876006442}]"
      ]
     },
     "execution_count": 266,
     "metadata": {},
     "output_type": "execute_result"
    }
   ],
   "source": [
    "score_dict = analyse_model_performance(gs_tvec, X_train, y_train, X_test, y_test)\n",
    "scores.append(score_dict)\n",
    "score_dict['model'] =\"TF-IDFVec + Logistic Regression\"\n",
    "scores"
   ]
  },
  {
   "cell_type": "markdown",
   "metadata": {},
   "source": [
    "Using TFIDF we see that our model gives us a slightly better test score thus reducing overfitting. Both test and train scores are better than the baseline scores and are thus acceptable.\n"
   ]
  },
  {
   "cell_type": "markdown",
   "metadata": {},
   "source": [
    "We see that there is a difference between sensitivity (true positive rate) and specificity(true negative rate) showing that our model is slightly better at correctly predicting True positives i.e. DC posts than Marvel posts"
   ]
  },
  {
   "cell_type": "markdown",
   "metadata": {},
   "source": [
    "AUC of this model is slightly better than the one with CountVectorizer, and quite close to 1 which shows a high measure of separability i.e. capability of the model to distinguish between the two classes is quite high. "
   ]
  },
  {
   "cell_type": "code",
   "execution_count": 222,
   "metadata": {},
   "outputs": [
    {
     "data": {
      "text/plain": [
       "array([[-5.86219249e-05, -1.02588369e-04, -8.79328873e-05, ...,\n",
       "         9.95773245e-02,  1.46614218e-02,  2.12563076e+00]])"
      ]
     },
     "execution_count": 222,
     "metadata": {},
     "output_type": "execute_result"
    }
   ],
   "source": [
    "gs_tvec.best_estimator_.named_steps.lr.coef_"
   ]
  },
  {
   "cell_type": "markdown",
   "metadata": {},
   "source": [
    "### Finding the top predictors"
   ]
  },
  {
   "cell_type": "code",
   "execution_count": 223,
   "metadata": {},
   "outputs": [
    {
     "data": {
      "text/html": [
       "<div>\n",
       "<style scoped>\n",
       "    .dataframe tbody tr th:only-of-type {\n",
       "        vertical-align: middle;\n",
       "    }\n",
       "\n",
       "    .dataframe tbody tr th {\n",
       "        vertical-align: top;\n",
       "    }\n",
       "\n",
       "    .dataframe thead th {\n",
       "        text-align: right;\n",
       "    }\n",
       "</style>\n",
       "<table border=\"1\" class=\"dataframe\">\n",
       "  <thead>\n",
       "    <tr style=\"text-align: right;\">\n",
       "      <th></th>\n",
       "      <th>value</th>\n",
       "      <th>feature_name</th>\n",
       "    </tr>\n",
       "  </thead>\n",
       "  <tbody>\n",
       "    <tr>\n",
       "      <th>1990</th>\n",
       "      <td>-6.461927</td>\n",
       "      <td>loki</td>\n",
       "    </tr>\n",
       "    <tr>\n",
       "      <th>3720</th>\n",
       "      <td>-3.603753</td>\n",
       "      <td>tva</td>\n",
       "    </tr>\n",
       "    <tr>\n",
       "      <th>2099</th>\n",
       "      <td>-3.423731</td>\n",
       "      <td>mcu</td>\n",
       "    </tr>\n",
       "    <tr>\n",
       "      <th>2081</th>\n",
       "      <td>-3.401678</td>\n",
       "      <td>marvel</td>\n",
       "    </tr>\n",
       "    <tr>\n",
       "      <th>3626</th>\n",
       "      <td>-2.307803</td>\n",
       "      <td>timeline</td>\n",
       "    </tr>\n",
       "    <tr>\n",
       "      <th>232</th>\n",
       "      <td>-2.198077</td>\n",
       "      <td>avenger</td>\n",
       "    </tr>\n",
       "    <tr>\n",
       "      <th>3900</th>\n",
       "      <td>-2.195480</td>\n",
       "      <td>widow</td>\n",
       "    </tr>\n",
       "    <tr>\n",
       "      <th>1036</th>\n",
       "      <td>-2.051975</td>\n",
       "      <td>episode</td>\n",
       "    </tr>\n",
       "    <tr>\n",
       "      <th>3599</th>\n",
       "      <td>-2.023906</td>\n",
       "      <td>thor</td>\n",
       "    </tr>\n",
       "    <tr>\n",
       "      <th>3352</th>\n",
       "      <td>-1.604980</td>\n",
       "      <td>spider</td>\n",
       "    </tr>\n",
       "    <tr>\n",
       "      <th>1007</th>\n",
       "      <td>-1.604198</td>\n",
       "      <td>endgame</td>\n",
       "    </tr>\n",
       "    <tr>\n",
       "      <th>1531</th>\n",
       "      <td>-1.553966</td>\n",
       "      <td>hulk</td>\n",
       "    </tr>\n",
       "    <tr>\n",
       "      <th>1705</th>\n",
       "      <td>-1.471977</td>\n",
       "      <td>iron</td>\n",
       "    </tr>\n",
       "    <tr>\n",
       "      <th>3846</th>\n",
       "      <td>-1.422538</td>\n",
       "      <td>wandavision</td>\n",
       "    </tr>\n",
       "    <tr>\n",
       "      <th>2175</th>\n",
       "      <td>-1.416154</td>\n",
       "      <td>mobius</td>\n",
       "    </tr>\n",
       "    <tr>\n",
       "      <th>1608</th>\n",
       "      <td>-1.408950</td>\n",
       "      <td>infinity</td>\n",
       "    </tr>\n",
       "    <tr>\n",
       "      <th>3424</th>\n",
       "      <td>-1.401158</td>\n",
       "      <td>stone</td>\n",
       "    </tr>\n",
       "    <tr>\n",
       "      <th>3791</th>\n",
       "      <td>-1.385663</td>\n",
       "      <td>variant</td>\n",
       "    </tr>\n",
       "    <tr>\n",
       "      <th>3166</th>\n",
       "      <td>-1.358140</td>\n",
       "      <td>series</td>\n",
       "    </tr>\n",
       "    <tr>\n",
       "      <th>454</th>\n",
       "      <td>-1.275898</td>\n",
       "      <td>captain</td>\n",
       "    </tr>\n",
       "  </tbody>\n",
       "</table>\n",
       "</div>"
      ],
      "text/plain": [
       "         value feature_name\n",
       "1990 -6.461927         loki\n",
       "3720 -3.603753          tva\n",
       "2099 -3.423731          mcu\n",
       "2081 -3.401678       marvel\n",
       "3626 -2.307803     timeline\n",
       "232  -2.198077      avenger\n",
       "3900 -2.195480        widow\n",
       "1036 -2.051975      episode\n",
       "3599 -2.023906         thor\n",
       "3352 -1.604980       spider\n",
       "1007 -1.604198      endgame\n",
       "1531 -1.553966         hulk\n",
       "1705 -1.471977         iron\n",
       "3846 -1.422538  wandavision\n",
       "2175 -1.416154       mobius\n",
       "1608 -1.408950     infinity\n",
       "3424 -1.401158        stone\n",
       "3791 -1.385663      variant\n",
       "3166 -1.358140       series\n",
       "454  -1.275898      captain"
      ]
     },
     "execution_count": 223,
     "metadata": {},
     "output_type": "execute_result"
    }
   ],
   "source": [
    "df_coef_marvel, df_coef_DC = get_important_features_lr(gs_tvec.best_estimator_.named_steps.tvec, gs_tvec.best_estimator_.named_steps.lr, 20)\n",
    "df_coef_marvel\n"
   ]
  },
  {
   "cell_type": "code",
   "execution_count": 224,
   "metadata": {},
   "outputs": [
    {
     "data": {
      "image/png": "[encoded data removed]",
      "text/plain": [
       "<Figure size 864x720 with 2 Axes>"
      ]
     },
     "metadata": {
      "needs_background": "light"
     },
     "output_type": "display_data"
    }
   ],
   "source": [
    "plot_important_words(df_coef_marvel, df_coef_DC, title=\"\")\n",
    "    "
   ]
  },
  {
   "cell_type": "markdown",
   "metadata": {},
   "source": [
    "# c. CountVectorizer + Random Forests "
   ]
  },
  {
   "cell_type": "code",
   "execution_count": 225,
   "metadata": {},
   "outputs": [],
   "source": [
    "# Set up a pipeline with count vectorizer and Random Forests\n",
    "\n",
    "pipe_vec2 = Pipeline([\n",
    "    ('cvec', CountVectorizer()),\n",
    "    ('rf', RandomForestClassifier())\n",
    "])"
   ]
  },
  {
   "cell_type": "code",
   "execution_count": 226,
   "metadata": {},
   "outputs": [],
   "source": [
    "# Search over the following values of hyperparameters:\n",
    "# Maximum number of features fit: 3000\n",
    "# Minimum number of documents needed to include token: 2, 3\n",
    "# Maximum number of documents needed to include token: 90%, 95%\n",
    "# Check (individual tokens) and also check (individual tokens and 2-grams).\n",
    "\n",
    "# RandomForests: \n",
    "# No of trees in the random forest: 100, 150, 200\n",
    "# Max depth: 1, 2, 3\n",
    "pipe_vec2_params = {\n",
    "    'cvec__max_features': [3_000, 4_000],\n",
    "    'cvec__min_df': [2, 3],\n",
    "    'cvec__max_df': [.9, .85],\n",
    "    'cvec__ngram_range': [(1,1), (1,2)],\n",
    "    'rf__n_estimators': [150, 200, 250],\n",
    "    'rf__max_depth': [None,4],\n",
    "    'rf__random_state': [123]\n",
    "}\n",
    "scoring={'AUC': 'roc_auc', 'Accuracy':make_scorer(accuracy_score)}"
   ]
  },
  {
   "cell_type": "code",
   "execution_count": 227,
   "metadata": {},
   "outputs": [
    {
     "data": {
      "text/plain": [
       "GridSearchCV(cv=5,\n",
       "             estimator=Pipeline(steps=[('cvec', CountVectorizer()),\n",
       "                                       ('rf', RandomForestClassifier())]),\n",
       "             param_grid={'cvec__max_df': [0.9, 0.85],\n",
       "                         'cvec__max_features': [3000, 4000],\n",
       "                         'cvec__min_df': [2, 3],\n",
       "                         'cvec__ngram_range': [(1, 1), (1, 2)],\n",
       "                         'rf__max_depth': [None, 4],\n",
       "                         'rf__n_estimators': [150, 200, 250],\n",
       "                         'rf__random_state': [123]},\n",
       "             refit='AUC',\n",
       "             scoring={'AUC': 'roc_auc',\n",
       "                      'Accuracy': make_scorer(accuracy_score)})"
      ]
     },
     "execution_count": 227,
     "metadata": {},
     "output_type": "execute_result"
    }
   ],
   "source": [
    "\n",
    "# Instantiate GridSearchCV.\n",
    "gs_vec2 = GridSearchCV(pipe_vec2, # what object are we optimizing?\n",
    "                        param_grid = pipe_vec2_params, # what parameters values are we searching?\n",
    "                        cv=5, scoring=scoring, refit='AUC') # 5-fold cross-validation.\n",
    "\n",
    "gs_vec2"
   ]
  },
  {
   "cell_type": "code",
   "execution_count": 228,
   "metadata": {},
   "outputs": [
    {
     "data": {
      "text/plain": [
       "GridSearchCV(cv=5,\n",
       "             estimator=Pipeline(steps=[('cvec', CountVectorizer()),\n",
       "                                       ('rf', RandomForestClassifier())]),\n",
       "             param_grid={'cvec__max_df': [0.9, 0.85],\n",
       "                         'cvec__max_features': [3000, 4000],\n",
       "                         'cvec__min_df': [2, 3],\n",
       "                         'cvec__ngram_range': [(1, 1), (1, 2)],\n",
       "                         'rf__max_depth': [None, 4],\n",
       "                         'rf__n_estimators': [150, 200, 250],\n",
       "                         'rf__random_state': [123]},\n",
       "             refit='AUC',\n",
       "             scoring={'AUC': 'roc_auc',\n",
       "                      'Accuracy': make_scorer(accuracy_score)})"
      ]
     },
     "execution_count": 228,
     "metadata": {},
     "output_type": "execute_result"
    }
   ],
   "source": [
    "\n",
    "# Fit GridSearch to training data.\n",
    "gs_vec2.fit(X_train, y_train)"
   ]
  },
  {
   "cell_type": "code",
   "execution_count": 267,
   "metadata": {
    "scrolled": false
   },
   "outputs": [
    {
     "name": "stdout",
     "output_type": "stream",
     "text": [
      "****Best Params****: \n",
      "{'cvec__max_df': 0.9, 'cvec__max_features': 4000, 'cvec__min_df': 2, 'cvec__ngram_range': (1, 1), 'rf__max_depth': None, 'rf__n_estimators': 150, 'rf__random_state': 123}\n",
      "\n",
      "****Cross Val Score****: \n",
      "0.9730053163596537\n",
      "\n",
      "****Train AUC Score****: \n",
      "0.9998928128849516\n",
      "\n",
      "****Test AUC Score ****: \n",
      "0.9743341811268129\n",
      "\n",
      "****Train Accuracy Score****: \n",
      "0.9955872369314325\n",
      "\n",
      "****Test Accuracy Score ****: \n",
      "0.9113222486144101\n",
      "\n",
      "****Sensitivity****: \n",
      "0.9485981308411215\n",
      "\n",
      "****Specificity****: \n",
      "0.8727858293075684\n",
      "\n"
     ]
    },
    {
     "data": {
      "text/plain": [
       "<Figure size 648x648 with 0 Axes>"
      ]
     },
     "metadata": {},
     "output_type": "display_data"
    },
    {
     "data": {
      "image/png": "[encoded data removed]",
      "text/plain": [
       "<Figure size 432x288 with 2 Axes>"
      ]
     },
     "metadata": {
      "needs_background": "light"
     },
     "output_type": "display_data"
    },
    {
     "data": {
      "image/png": "[encoded data removed]",
      "text/plain": [
       "<Figure size 432x432 with 1 Axes>"
      ]
     },
     "metadata": {
      "needs_background": "light"
     },
     "output_type": "display_data"
    }
   ],
   "source": [
    "score_dict = analyse_model_performance(gs_vec2, X_train, y_train, X_test, y_test)\n",
    "scores.append(score_dict)\n",
    "score_dict['model'] =\"CountVec + Random Forests\"\n"
   ]
  },
  {
   "cell_type": "markdown",
   "metadata": {},
   "source": [
    "Using Random Forests model with Count Vectoriser, we observe that both test and train scores are better than the baseline scores and are thus acceptable. However the test score / accuracy we observed is worse than with Logistic Regression. \n",
    "\n",
    "The AUC score shows high separability of classes however this is also observed to be lower than the Logistic Regression models. "
   ]
  },
  {
   "cell_type": "markdown",
   "metadata": {},
   "source": [
    "## d. TF-IDF Vectorizer + Random Forests "
   ]
  },
  {
   "cell_type": "code",
   "execution_count": 230,
   "metadata": {},
   "outputs": [],
   "source": [
    "# Set up a pipeline with tf-idf vectorizer and RandomForestClassifier\n",
    "\n",
    "pipe_tvec2 = Pipeline([\n",
    "    ('tvec', TfidfVectorizer()),\n",
    "    ('rf', RandomForestClassifier())\n",
    "])"
   ]
  },
  {
   "cell_type": "code",
   "execution_count": 231,
   "metadata": {},
   "outputs": [],
   "source": [
    "# Search over the following values of hyperparameters:\n",
    "# Maximum number of features fit: 5000\n",
    "# English stop words\n",
    "# Check (individual tokens) and also check (individual tokens and 2-grams).\n",
    "\n",
    "pipe_tvec2_params = {\n",
    "    'tvec__max_features': [4_000, 5_000],\n",
    "    'tvec__stop_words': ['english'],\n",
    "    'tvec__ngram_range': [(1,1), (1,2)],\n",
    "    'rf__n_estimators': [100, 150, 200],\n",
    "    'rf__max_depth': [None,4],\n",
    "    'rf__random_state': [123]\n",
    "}\n",
    "scoring={'AUC': 'roc_auc', 'Accuracy':make_scorer(accuracy_score)}"
   ]
  },
  {
   "cell_type": "code",
   "execution_count": 232,
   "metadata": {},
   "outputs": [],
   "source": [
    "# Instantiate GridSearchCV.\n",
    "gs_tvec2 = GridSearchCV(pipe_tvec2, # what object are we optimizing?\n",
    "                        param_grid = pipe_tvec2_params, # what parameters values are we searching?\n",
    "                        cv=5, scoring=scoring, refit='AUC') # 5-fold cross-validation.\n"
   ]
  },
  {
   "cell_type": "code",
   "execution_count": 233,
   "metadata": {
    "scrolled": true
   },
   "outputs": [
    {
     "data": {
      "text/plain": [
       "GridSearchCV(cv=5,\n",
       "             estimator=Pipeline(steps=[('tvec', TfidfVectorizer()),\n",
       "                                       ('rf', RandomForestClassifier())]),\n",
       "             param_grid={'rf__max_depth': [None, 4],\n",
       "                         'rf__n_estimators': [100, 150, 200],\n",
       "                         'rf__random_state': [123],\n",
       "                         'tvec__max_features': [4000, 5000],\n",
       "                         'tvec__ngram_range': [(1, 1), (1, 2)],\n",
       "                         'tvec__stop_words': ['english']},\n",
       "             refit='AUC',\n",
       "             scoring={'AUC': 'roc_auc',\n",
       "                      'Accuracy': make_scorer(accuracy_score)})"
      ]
     },
     "execution_count": 233,
     "metadata": {},
     "output_type": "execute_result"
    }
   ],
   "source": [
    "# Fit GridSearch to training data.\n",
    "gs_tvec2.fit(X_train, y_train)"
   ]
  },
  {
   "cell_type": "code",
   "execution_count": 268,
   "metadata": {},
   "outputs": [
    {
     "name": "stdout",
     "output_type": "stream",
     "text": [
      "****Best Params****: \n",
      "{'rf__max_depth': None, 'rf__n_estimators': 200, 'rf__random_state': 123, 'tvec__max_features': 5000, 'tvec__ngram_range': (1, 1), 'tvec__stop_words': 'english'}\n",
      "\n",
      "****Cross Val Score****: \n",
      "0.9726823792389141\n",
      "\n",
      "****Train AUC Score****: \n",
      "0.9998653822038962\n",
      "\n",
      "****Test AUC Score ****: \n",
      "0.9754879829036676\n",
      "\n",
      "****Train Accuracy Score****: \n",
      "0.9955872369314325\n",
      "\n",
      "****Test Accuracy Score ****: \n",
      "0.9144893111638955\n",
      "\n",
      "****Sensitivity****: \n",
      "0.9735202492211839\n",
      "\n",
      "****Specificity****: \n",
      "0.8534621578099839\n",
      "\n"
     ]
    },
    {
     "data": {
      "text/plain": [
       "<Figure size 648x648 with 0 Axes>"
      ]
     },
     "metadata": {},
     "output_type": "display_data"
    },
    {
     "data": {
      "image/png": "[encoded data removed]",
      "text/plain": [
       "<Figure size 432x288 with 2 Axes>"
      ]
     },
     "metadata": {
      "needs_background": "light"
     },
     "output_type": "display_data"
    },
    {
     "data": {
      "image/png": "[encoded data removed]",
      "text/plain": [
       "<Figure size 432x432 with 1 Axes>"
      ]
     },
     "metadata": {
      "needs_background": "light"
     },
     "output_type": "display_data"
    },
    {
     "data": {
      "text/plain": [
       "[{'model': 'CountVec + Logistic Regression',\n",
       "  'cross_val_score': 0.979380839045476,\n",
       "  'train_auc_score': 0.9942849674335578,\n",
       "  'test_auc_score': 0.9817736943227936,\n",
       "  'train_accuracy_score': 0.9080108621860149,\n",
       "  'test_accuracy_score': 0.8709422011084719,\n",
       "  'sensitivity': 0.9937694704049844,\n",
       "  'specificity': 0.7439613526570048},\n",
       " {'model': 'TF-IDFVec + Logistic Regression',\n",
       "  'cross_val_score': 0.9824036620630329,\n",
       "  'train_auc_score': 0.9972721455494988,\n",
       "  'test_auc_score': 0.9839521222427899,\n",
       "  'train_accuracy_score': 0.9670739986422268,\n",
       "  'test_accuracy_score': 0.9184481393507522,\n",
       "  'sensitivity': 0.9735202492211839,\n",
       "  'specificity': 0.8615136876006442},\n",
       " {'model': 'CountVec + Random Forests',\n",
       "  'cross_val_score': 0.9730053163596537,\n",
       "  'train_auc_score': 0.9998928128849516,\n",
       "  'test_auc_score': 0.9743341811268129,\n",
       "  'train_accuracy_score': 0.9955872369314325,\n",
       "  'test_accuracy_score': 0.9113222486144101,\n",
       "  'sensitivity': 0.9485981308411215,\n",
       "  'specificity': 0.8727858293075684},\n",
       " {'model': 'TF-IDF Vec + Random Forests',\n",
       "  'cross_val_score': 0.9726823792389141,\n",
       "  'train_auc_score': 0.9998653822038962,\n",
       "  'test_auc_score': 0.9754879829036676,\n",
       "  'train_accuracy_score': 0.9955872369314325,\n",
       "  'test_accuracy_score': 0.9144893111638955,\n",
       "  'sensitivity': 0.9735202492211839,\n",
       "  'specificity': 0.8534621578099839}]"
      ]
     },
     "execution_count": 268,
     "metadata": {},
     "output_type": "execute_result"
    }
   ],
   "source": [
    "score_dict = analyse_model_performance(gs_tvec2, X_train, y_train, X_test, y_test)\n",
    "scores.append(score_dict)\n",
    "score_dict['model'] =\"TF-IDF Vec + Random Forests\"\n",
    "scores"
   ]
  },
  {
   "cell_type": "markdown",
   "metadata": {},
   "source": [
    "Using Random Forests model with TF-IDF Vectorizer, we observe that both test and train scores are better than the baseline scores and are thus acceptable. However the test score / accuracy we observed is slightly worse than TF-IDF with Logistic Regression. \n",
    "\n",
    "The AUC score shows high separability of classes however this is also observed to be lower than the Logistic Regression models. "
   ]
  },
  {
   "cell_type": "markdown",
   "metadata": {},
   "source": [
    "## e. CountVectorizer + Multinomial Naive Bayes"
   ]
  },
  {
   "cell_type": "code",
   "execution_count": 235,
   "metadata": {},
   "outputs": [],
   "source": [
    "pipe_vec3 = Pipeline([\n",
    "    ('cvec', CountVectorizer()),\n",
    "    ('nb', MultinomialNB())\n",
    "])"
   ]
  },
  {
   "cell_type": "code",
   "execution_count": 239,
   "metadata": {},
   "outputs": [],
   "source": [
    "# Search over the following values of hyperparameters:\n",
    "# Maximum number of features fit: 2000, 3000, 4000, 5000\n",
    "# Minimum number of documents needed to include token: 2, 3\n",
    "# Maximum number of documents needed to include token: 90%, 95%\n",
    "# Check (individual tokens) and also check (individual tokens and 2-grams).\n",
    "\n",
    "pipe_params_vec3 = {\n",
    "    'cvec__max_features': [2_000, 3_000, 4_000],\n",
    "    'cvec__min_df': [2,3],\n",
    "    'cvec__max_df': [0.8, 0.85, .9],\n",
    "    'cvec__ngram_range': [(1,1), (1,2)]\n",
    "}\n",
    "scoring={'AUC': 'roc_auc', 'Accuracy':make_scorer(accuracy_score)}"
   ]
  },
  {
   "cell_type": "code",
   "execution_count": 240,
   "metadata": {},
   "outputs": [],
   "source": [
    "# Instantiate GridSearchCV.\n",
    "\n",
    "gs_vec3 = GridSearchCV(pipe_vec3, \n",
    "                  param_grid=pipe_params_vec3, \n",
    "                  cv=5, scoring=scoring, refit='AUC') "
   ]
  },
  {
   "cell_type": "code",
   "execution_count": 241,
   "metadata": {},
   "outputs": [
    {
     "data": {
      "text/plain": [
       "GridSearchCV(cv=5,\n",
       "             estimator=Pipeline(steps=[('cvec', CountVectorizer()),\n",
       "                                       ('nb', MultinomialNB())]),\n",
       "             param_grid={'cvec__max_df': [0.8, 0.85, 0.9],\n",
       "                         'cvec__max_features': [2000, 3000, 4000],\n",
       "                         'cvec__min_df': [2, 3],\n",
       "                         'cvec__ngram_range': [(1, 1), (1, 2)]},\n",
       "             refit='AUC',\n",
       "             scoring={'AUC': 'roc_auc',\n",
       "                      'Accuracy': make_scorer(accuracy_score)})"
      ]
     },
     "execution_count": 241,
     "metadata": {},
     "output_type": "execute_result"
    }
   ],
   "source": [
    "# Fit GridSearch to training data.\n",
    "gs_vec3.fit(X_train, y_train)"
   ]
  },
  {
   "cell_type": "code",
   "execution_count": 269,
   "metadata": {
    "scrolled": false
   },
   "outputs": [
    {
     "name": "stdout",
     "output_type": "stream",
     "text": [
      "****Best Params****: \n",
      "{'cvec__max_df': 0.8, 'cvec__max_features': 4000, 'cvec__min_df': 3, 'cvec__ngram_range': (1, 2)}\n",
      "\n",
      "****Cross Val Score****: \n",
      "0.9801111587671695\n",
      "\n",
      "****Train AUC Score****: \n",
      "0.9885715484365896\n",
      "\n",
      "****Test AUC Score ****: \n",
      "0.9818426716029316\n",
      "\n",
      "****Train Accuracy Score****: \n",
      "0.9382213170400543\n",
      "\n",
      "****Test Accuracy Score ****: \n",
      "0.9255740300870943\n",
      "\n",
      "****Sensitivity****: \n",
      "0.9485981308411215\n",
      "\n",
      "****Specificity****: \n",
      "0.9017713365539453\n",
      "\n"
     ]
    },
    {
     "data": {
      "text/plain": [
       "<Figure size 648x648 with 0 Axes>"
      ]
     },
     "metadata": {},
     "output_type": "display_data"
    },
    {
     "data": {
      "image/png": "[encoded data removed]",
      "text/plain": [
       "<Figure size 432x288 with 2 Axes>"
      ]
     },
     "metadata": {
      "needs_background": "light"
     },
     "output_type": "display_data"
    },
    {
     "data": {
      "image/png": "[encoded data removed]",
      "text/plain": [
       "<Figure size 432x432 with 1 Axes>"
      ]
     },
     "metadata": {
      "needs_background": "light"
     },
     "output_type": "display_data"
    }
   ],
   "source": [
    "score_dict = analyse_model_performance(gs_vec3, X_train, y_train, X_test, y_test)\n",
    "scores.append(score_dict)\n",
    "score_dict['model'] =\"CountVec + Multinomial Naive Bayes\""
   ]
  },
  {
   "cell_type": "markdown",
   "metadata": {},
   "source": [
    "Using Multinomial Naive Bayes model with Count Vectorizer, we observe that both test and train scores are better than the baseline scores and are thus acceptable. The test score / accuracy we observed is more or less similar to Logistic Regression. \n",
    "\n",
    "The AUC score shows high separability of classes however this is also observed to be similar to the Logistic Regression models. "
   ]
  },
  {
   "cell_type": "markdown",
   "metadata": {},
   "source": [
    "## f. TFIDFVectorizer + Multinomial Naive Bayes"
   ]
  },
  {
   "cell_type": "code",
   "execution_count": 243,
   "metadata": {},
   "outputs": [],
   "source": [
    "# Set up a pipeline with tf-idf vectorizer and LogisticRegression\n",
    "\n",
    "pipe_tvec3 = Pipeline([\n",
    "    ('tvec', TfidfVectorizer()),\n",
    "    ('nb', MultinomialNB())\n",
    "])"
   ]
  },
  {
   "cell_type": "code",
   "execution_count": 245,
   "metadata": {},
   "outputs": [],
   "source": [
    "# Search over the following values of hyperparameters:\n",
    "# Maximum number of features fit: 5000\n",
    "# English stop words\n",
    "# Check (individual tokens) and also check (individual tokens and 2-grams).\n",
    "\n",
    "pipe_tvec_params3 = {\n",
    "    'tvec__max_features': [3_000, 4_000, 5_000],\n",
    "    'tvec__stop_words': [None, 'english'],\n",
    "    'tvec__ngram_range': [(1,1), (2,2)]\n",
    "}\n",
    "scoring={'AUC': 'roc_auc', 'Accuracy':make_scorer(accuracy_score)}"
   ]
  },
  {
   "cell_type": "code",
   "execution_count": 246,
   "metadata": {},
   "outputs": [],
   "source": [
    "# Instantiate GridSearchCV.\n",
    "gs_tvec3 = GridSearchCV(pipe_tvec3, # what object are we optimizing?\n",
    "                        param_grid = pipe_tvec_params3, # what parameters values are we searching?\n",
    "                        cv=5, scoring=scoring, refit='AUC') # 5-fold cross-validation."
   ]
  },
  {
   "cell_type": "code",
   "execution_count": 247,
   "metadata": {},
   "outputs": [
    {
     "data": {
      "text/plain": [
       "GridSearchCV(cv=5,\n",
       "             estimator=Pipeline(steps=[('tvec', TfidfVectorizer()),\n",
       "                                       ('nb', MultinomialNB())]),\n",
       "             param_grid={'tvec__max_features': [3000, 4000, 5000],\n",
       "                         'tvec__ngram_range': [(1, 1), (2, 2)],\n",
       "                         'tvec__stop_words': [None, 'english']},\n",
       "             refit='AUC',\n",
       "             scoring={'AUC': 'roc_auc',\n",
       "                      'Accuracy': make_scorer(accuracy_score)})"
      ]
     },
     "execution_count": 247,
     "metadata": {},
     "output_type": "execute_result"
    }
   ],
   "source": [
    "# Fit the pipeline model\n",
    "gs_tvec3.fit(X_train, y_train)"
   ]
  },
  {
   "cell_type": "code",
   "execution_count": 270,
   "metadata": {
    "scrolled": false
   },
   "outputs": [
    {
     "name": "stdout",
     "output_type": "stream",
     "text": [
      "****Best Params****: \n",
      "{'tvec__max_features': 5000, 'tvec__ngram_range': (1, 1), 'tvec__stop_words': 'english'}\n",
      "\n",
      "****Cross Val Score****: \n",
      "0.9817378185674264\n",
      "\n",
      "****Train AUC Score****: \n",
      "0.9969014855903635\n",
      "\n",
      "****Test AUC Score ****: \n",
      "0.982188812135988\n",
      "\n",
      "****Train Accuracy Score****: \n",
      "0.971826205023761\n",
      "\n",
      "****Test Accuracy Score ****: \n",
      "0.9295328582739509\n",
      "\n",
      "****Sensitivity****: \n",
      "0.9376947040498442\n",
      "\n",
      "****Specificity****: \n",
      "0.9210950080515298\n",
      "\n"
     ]
    },
    {
     "data": {
      "text/plain": [
       "<Figure size 648x648 with 0 Axes>"
      ]
     },
     "metadata": {},
     "output_type": "display_data"
    },
    {
     "data": {
      "image/png": "[encoded data removed]",
      "text/plain": [
       "<Figure size 432x288 with 2 Axes>"
      ]
     },
     "metadata": {
      "needs_background": "light"
     },
     "output_type": "display_data"
    },
    {
     "data": {
      "image/png": "[encoded data removed]",
      "text/plain": [
       "<Figure size 432x432 with 1 Axes>"
      ]
     },
     "metadata": {
      "needs_background": "light"
     },
     "output_type": "display_data"
    }
   ],
   "source": [
    "score_dict = analyse_model_performance(gs_tvec3, X_train, y_train, X_test, y_test)\n",
    "scores.append(score_dict)\n",
    "score_dict['model'] = \"TF-IDFVec + Multinomial Naive Bayes\""
   ]
  },
  {
   "cell_type": "markdown",
   "metadata": {},
   "source": [
    "Using Multinomial Naive Bayes model with TF-IDF Vectorizer, we observe that both test and train scores are better than the baseline scores and are thus acceptable. The test score / accuracy we observed is better than with Count Vectorizer and more or less similar to Logistic Regression. \n",
    "\n",
    "The AUC score shows high separability of classes however this is also observed to be similar to the Logistic Regression models. "
   ]
  },
  {
   "cell_type": "markdown",
   "metadata": {},
   "source": [
    "## Modelling with Stemmed Tokens"
   ]
  },
  {
   "cell_type": "markdown",
   "metadata": {},
   "source": [
    "So far we have used lemmatised tokens for our models let's try a few models with Stemmed Tokens. We choose the Lgistic Regression with TFIDF and NaiveBayes with TF-IDF as these were the best models in our previous modeling"
   ]
  },
  {
   "cell_type": "code",
   "execution_count": 249,
   "metadata": {},
   "outputs": [],
   "source": [
    "# Set X and y variables. We map DC_Cinematic subreddit as 1 and marvelstudios as 0\n",
    "X1 = df_marv_dc_1['title_desc_new_stem']\n",
    "y1 = df_marv_dc_1['subreddit'].map({'marvelstudios':0, 'DC_Cinematic':1})\n"
   ]
  },
  {
   "cell_type": "code",
   "execution_count": 250,
   "metadata": {},
   "outputs": [],
   "source": [
    "X1_train, X1_test, y1_train, y1_test = train_test_split(X1, y1, test_size=0.3, stratify=y, random_state=123)\n"
   ]
  },
  {
   "cell_type": "markdown",
   "metadata": {},
   "source": [
    "## g. TFIDFVectorizer + Logistic Regression (With Stemming)"
   ]
  },
  {
   "cell_type": "code",
   "execution_count": 251,
   "metadata": {},
   "outputs": [],
   "source": [
    "# Set up a pipeline with tf-idf vectorizer and LogisticRegression\n",
    "\n",
    "pipe_tvec4 = Pipeline([\n",
    "    ('tvec', TfidfVectorizer()),\n",
    "    ('lr', LogisticRegression())\n",
    "])"
   ]
  },
  {
   "cell_type": "code",
   "execution_count": 252,
   "metadata": {},
   "outputs": [],
   "source": [
    "# Search over the following values of hyperparameters:\n",
    "# Maximum number of features fit: 5000\n",
    "# English stop words\n",
    "# Check (individual tokens) and also check (individual tokens and 2-grams).\n",
    "\n",
    "pipe_tvec4_params = {\n",
    "    'tvec__max_features': [2_000, 3_000],\n",
    "    'tvec__stop_words': ['english'],\n",
    "    'tvec__ngram_range': [(1,1), (2,2)],\n",
    "    'lr__C': np.logspace(-2, 2, 50),\n",
    "    'lr__solver': ['liblinear', 'lbfgs'],\n",
    "    'lr__random_state':[123]\n",
    "}\n",
    "scoring={'AUC': 'roc_auc', 'Accuracy':make_scorer(accuracy_score)}"
   ]
  },
  {
   "cell_type": "code",
   "execution_count": 253,
   "metadata": {},
   "outputs": [],
   "source": [
    "# Instantiate GridSearchCV.\n",
    "gs_tvec4 = GridSearchCV(pipe_tvec4, # what object are we optimizing?\n",
    "                        param_grid = pipe_tvec4_params, # what parameters values are we searching?\n",
    "                        cv=5, scoring=scoring, refit='AUC') # 5-fold cross-validation."
   ]
  },
  {
   "cell_type": "code",
   "execution_count": 254,
   "metadata": {
    "scrolled": true
   },
   "outputs": [
    {
     "data": {
      "text/plain": [
       "GridSearchCV(cv=5,\n",
       "             estimator=Pipeline(steps=[('tvec', TfidfVectorizer()),\n",
       "                                       ('lr', LogisticRegression())]),\n",
       "             param_grid={'lr__C': array([1.00000000e-02, 1.20679264e-02, 1.45634848e-02, 1.75751062e-02,\n",
       "       2.12095089e-02, 2.55954792e-02, 3.08884360e-02, 3.72759372e-02,\n",
       "       4.49843267e-02, 5.42867544e-02, 6.55128557e-02, 7.90604321e-02,\n",
       "       9.54095476e-02, 1.15139540e-01, 1.38949549e-...\n",
       "       1.84206997e+01, 2.22299648e+01, 2.68269580e+01, 3.23745754e+01,\n",
       "       3.90693994e+01, 4.71486636e+01, 5.68986603e+01, 6.86648845e+01,\n",
       "       8.28642773e+01, 1.00000000e+02]),\n",
       "                         'lr__random_state': [123],\n",
       "                         'lr__solver': ['liblinear', 'lbfgs'],\n",
       "                         'tvec__max_features': [2000, 3000],\n",
       "                         'tvec__ngram_range': [(1, 1), (2, 2)],\n",
       "                         'tvec__stop_words': ['english']},\n",
       "             refit='AUC',\n",
       "             scoring={'AUC': 'roc_auc',\n",
       "                      'Accuracy': make_scorer(accuracy_score)})"
      ]
     },
     "execution_count": 254,
     "metadata": {},
     "output_type": "execute_result"
    }
   ],
   "source": [
    "\n",
    "# Fit GridSearch to training data.\n",
    "gs_tvec4.fit(X1_train, y1_train)"
   ]
  },
  {
   "cell_type": "code",
   "execution_count": 271,
   "metadata": {
    "scrolled": false
   },
   "outputs": [
    {
     "name": "stdout",
     "output_type": "stream",
     "text": [
      "****Best Params****: \n",
      "{'lr__C': 1.0985411419875584, 'lr__random_state': 123, 'lr__solver': 'liblinear', 'tvec__max_features': 3000, 'tvec__ngram_range': (1, 1), 'tvec__stop_words': 'english'}\n",
      "\n",
      "****Cross Val Score****: \n",
      "0.9815663738266613\n",
      "\n",
      "****Train AUC Score****: \n",
      "0.997989953455436\n",
      "\n",
      "****Test AUC Score ****: \n",
      "0.981896599294676\n",
      "\n",
      "****Train Accuracy Score****: \n",
      "0.9755600814663951\n",
      "\n",
      "****Test Accuracy Score ****: \n",
      "0.9192399049881235\n",
      "\n",
      "****Sensitivity****: \n",
      "0.9641744548286605\n",
      "\n",
      "****Specificity****: \n",
      "0.8727858293075684\n",
      "\n"
     ]
    },
    {
     "data": {
      "text/plain": [
       "<Figure size 648x648 with 0 Axes>"
      ]
     },
     "metadata": {},
     "output_type": "display_data"
    },
    {
     "data": {
      "image/png": "[encoded data removed]",
      "text/plain": [
       "<Figure size 432x288 with 2 Axes>"
      ]
     },
     "metadata": {
      "needs_background": "light"
     },
     "output_type": "display_data"
    },
    {
     "data": {
      "image/png": "[encoded data removed]",
      "text/plain": [
       "<Figure size 432x432 with 1 Axes>"
      ]
     },
     "metadata": {
      "needs_background": "light"
     },
     "output_type": "display_data"
    }
   ],
   "source": [
    "score_dict = analyse_model_performance(gs_tvec4, X1_train, y1_train, X1_test, y1_test)\n",
    "scores.append(score_dict)\n",
    "score_dict['model'] = \"TF-IDF + Logistic Regression (Stemmed Tokens)\""
   ]
  },
  {
   "cell_type": "markdown",
   "metadata": {},
   "source": [
    "The train and test scores are above baseline however we find that the logistic regression model with stemming actually does worse than the model with lemmatization. "
   ]
  },
  {
   "cell_type": "markdown",
   "metadata": {},
   "source": [
    "## h. TFIDFVectorizer + Multinomial Naive Bayes (With Stemming)"
   ]
  },
  {
   "cell_type": "code",
   "execution_count": 258,
   "metadata": {},
   "outputs": [],
   "source": [
    "# Set up a pipeline with tf-idf vectorizer and LogisticRegression\n",
    "\n",
    "pipe_tvec5 = Pipeline([\n",
    "    ('tvec', TfidfVectorizer()),\n",
    "    ('nb', MultinomialNB())\n",
    "])"
   ]
  },
  {
   "cell_type": "code",
   "execution_count": 259,
   "metadata": {},
   "outputs": [],
   "source": [
    "# Search over the following values of hyperparameters:\n",
    "# Maximum number of features fit: 5000\n",
    "# English stop words\n",
    "# Check (individual tokens) and also check (individual tokens and 2-grams).\n",
    "\n",
    "pipe_tvec_params5 = {\n",
    "    'tvec__max_features': [3_000, 4_000, 5_000],\n",
    "    'tvec__stop_words': [None, 'english'],\n",
    "    'tvec__ngram_range': [(1,1), (2,2)]\n",
    "}\n",
    "scoring={'AUC': 'roc_auc', 'Accuracy':make_scorer(accuracy_score)}"
   ]
  },
  {
   "cell_type": "code",
   "execution_count": 260,
   "metadata": {},
   "outputs": [],
   "source": [
    "# Instantiate GridSearchCV.\n",
    "gs_tvec5 = GridSearchCV(pipe_tvec5, # what object are we optimizing?\n",
    "                        param_grid = pipe_tvec_params5, # what parameters values are we searching?\n",
    "                        cv=5, scoring=scoring, refit='AUC') # 5-fold cross-validation."
   ]
  },
  {
   "cell_type": "code",
   "execution_count": 261,
   "metadata": {},
   "outputs": [
    {
     "data": {
      "text/plain": [
       "GridSearchCV(cv=5,\n",
       "             estimator=Pipeline(steps=[('tvec', TfidfVectorizer()),\n",
       "                                       ('nb', MultinomialNB())]),\n",
       "             param_grid={'tvec__max_features': [3000, 4000, 5000],\n",
       "                         'tvec__ngram_range': [(1, 1), (2, 2)],\n",
       "                         'tvec__stop_words': [None, 'english']},\n",
       "             refit='AUC',\n",
       "             scoring={'AUC': 'roc_auc',\n",
       "                      'Accuracy': make_scorer(accuracy_score)})"
      ]
     },
     "execution_count": 261,
     "metadata": {},
     "output_type": "execute_result"
    }
   ],
   "source": [
    "# Fit the pipeline model\n",
    "gs_tvec5.fit(X1_train, y1_train)"
   ]
  },
  {
   "cell_type": "code",
   "execution_count": 272,
   "metadata": {
    "scrolled": false
   },
   "outputs": [
    {
     "name": "stdout",
     "output_type": "stream",
     "text": [
      "****Best Params****: \n",
      "{'tvec__max_features': 5000, 'tvec__ngram_range': (1, 1), 'tvec__stop_words': None}\n",
      "\n",
      "****Cross Val Score****: \n",
      "0.9816453635173363\n",
      "\n",
      "****Train AUC Score****: \n",
      "0.9965831513841659\n",
      "\n",
      "****Test AUC Score ****: \n",
      "0.981537917437958\n",
      "\n",
      "****Train Accuracy Score****: \n",
      "0.9684317718940937\n",
      "\n",
      "****Test Accuracy Score ****: \n",
      "0.9271575613618369\n",
      "\n",
      "****Sensitivity****: \n",
      "0.9314641744548287\n",
      "\n",
      "****Specificity****: \n",
      "0.9227053140096618\n",
      "\n"
     ]
    },
    {
     "data": {
      "text/plain": [
       "<Figure size 648x648 with 0 Axes>"
      ]
     },
     "metadata": {},
     "output_type": "display_data"
    },
    {
     "data": {
      "image/png": "[encoded data removed]",
      "text/plain": [
       "<Figure size 432x288 with 2 Axes>"
      ]
     },
     "metadata": {
      "needs_background": "light"
     },
     "output_type": "display_data"
    },
    {
     "data": {
      "image/png": "[encoded data removed]",
      "text/plain": [
       "<Figure size 432x432 with 1 Axes>"
      ]
     },
     "metadata": {
      "needs_background": "light"
     },
     "output_type": "display_data"
    }
   ],
   "source": [
    "score_dict = analyse_model_performance(gs_tvec5, X1_train, y1_train, X1_test, y1_test)\n",
    "scores.append(score_dict)\n",
    "score_dict['model'] = \"TF-IDF Vec + Multinomial NB (Stemmed Tokens)\""
   ]
  },
  {
   "cell_type": "markdown",
   "metadata": {},
   "source": [
    "The train and test scores are above baseline however we find that the Multinomial Naive Bayes model with stemming does marginally worse than the model with lemmatization. This could be because the model is not able to identify correlated stemmed words as well as lemmatized words. "
   ]
  },
  {
   "cell_type": "code",
   "execution_count": 273,
   "metadata": {},
   "outputs": [],
   "source": [
    "df_scores = pd.DataFrame(scores)"
   ]
  },
  {
   "cell_type": "code",
   "execution_count": 274,
   "metadata": {},
   "outputs": [
    {
     "data": {
      "text/html": [
       "<div>\n",
       "<style scoped>\n",
       "    .dataframe tbody tr th:only-of-type {\n",
       "        vertical-align: middle;\n",
       "    }\n",
       "\n",
       "    .dataframe tbody tr th {\n",
       "        vertical-align: top;\n",
       "    }\n",
       "\n",
       "    .dataframe thead th {\n",
       "        text-align: right;\n",
       "    }\n",
       "</style>\n",
       "<table border=\"1\" class=\"dataframe\">\n",
       "  <thead>\n",
       "    <tr style=\"text-align: right;\">\n",
       "      <th></th>\n",
       "      <th>model</th>\n",
       "      <th>cross_val_score</th>\n",
       "      <th>train_auc_score</th>\n",
       "      <th>test_auc_score</th>\n",
       "      <th>train_accuracy_score</th>\n",
       "      <th>test_accuracy_score</th>\n",
       "      <th>sensitivity</th>\n",
       "      <th>specificity</th>\n",
       "    </tr>\n",
       "  </thead>\n",
       "  <tbody>\n",
       "    <tr>\n",
       "      <th>5</th>\n",
       "      <td>TF-IDFVec + Multinomial Naive Bayes</td>\n",
       "      <td>0.981738</td>\n",
       "      <td>0.996901</td>\n",
       "      <td>0.982189</td>\n",
       "      <td>0.971826</td>\n",
       "      <td>0.929533</td>\n",
       "      <td>0.937695</td>\n",
       "      <td>0.921095</td>\n",
       "    </tr>\n",
       "    <tr>\n",
       "      <th>7</th>\n",
       "      <td>TF-IDF Vec + Multinomial NB (Stemmed Tokens)</td>\n",
       "      <td>0.981645</td>\n",
       "      <td>0.996583</td>\n",
       "      <td>0.981538</td>\n",
       "      <td>0.968432</td>\n",
       "      <td>0.927158</td>\n",
       "      <td>0.931464</td>\n",
       "      <td>0.922705</td>\n",
       "    </tr>\n",
       "    <tr>\n",
       "      <th>4</th>\n",
       "      <td>CountVec + Multinomial Naive Bayes</td>\n",
       "      <td>0.980111</td>\n",
       "      <td>0.988572</td>\n",
       "      <td>0.981843</td>\n",
       "      <td>0.938221</td>\n",
       "      <td>0.925574</td>\n",
       "      <td>0.948598</td>\n",
       "      <td>0.901771</td>\n",
       "    </tr>\n",
       "    <tr>\n",
       "      <th>6</th>\n",
       "      <td>CountVec + Logistic Regression (Stemmed Tokens)</td>\n",
       "      <td>0.981566</td>\n",
       "      <td>0.997990</td>\n",
       "      <td>0.981897</td>\n",
       "      <td>0.975560</td>\n",
       "      <td>0.919240</td>\n",
       "      <td>0.964174</td>\n",
       "      <td>0.872786</td>\n",
       "    </tr>\n",
       "    <tr>\n",
       "      <th>1</th>\n",
       "      <td>TF-IDFVec + Logistic Regression</td>\n",
       "      <td>0.982404</td>\n",
       "      <td>0.997272</td>\n",
       "      <td>0.983952</td>\n",
       "      <td>0.967074</td>\n",
       "      <td>0.918448</td>\n",
       "      <td>0.973520</td>\n",
       "      <td>0.861514</td>\n",
       "    </tr>\n",
       "    <tr>\n",
       "      <th>3</th>\n",
       "      <td>TF-IDF Vec + Random Forests</td>\n",
       "      <td>0.972682</td>\n",
       "      <td>0.999865</td>\n",
       "      <td>0.975488</td>\n",
       "      <td>0.995587</td>\n",
       "      <td>0.914489</td>\n",
       "      <td>0.973520</td>\n",
       "      <td>0.853462</td>\n",
       "    </tr>\n",
       "    <tr>\n",
       "      <th>2</th>\n",
       "      <td>CountVec + Random Forests</td>\n",
       "      <td>0.973005</td>\n",
       "      <td>0.999893</td>\n",
       "      <td>0.974334</td>\n",
       "      <td>0.995587</td>\n",
       "      <td>0.911322</td>\n",
       "      <td>0.948598</td>\n",
       "      <td>0.872786</td>\n",
       "    </tr>\n",
       "    <tr>\n",
       "      <th>0</th>\n",
       "      <td>CountVec + Logistic Regression</td>\n",
       "      <td>0.979381</td>\n",
       "      <td>0.994285</td>\n",
       "      <td>0.981774</td>\n",
       "      <td>0.908011</td>\n",
       "      <td>0.870942</td>\n",
       "      <td>0.993769</td>\n",
       "      <td>0.743961</td>\n",
       "    </tr>\n",
       "  </tbody>\n",
       "</table>\n",
       "</div>"
      ],
      "text/plain": [
       "                                             model  cross_val_score  \\\n",
       "5              TF-IDFVec + Multinomial Naive Bayes         0.981738   \n",
       "7     TF-IDF Vec + Multinomial NB (Stemmed Tokens)         0.981645   \n",
       "4               CountVec + Multinomial Naive Bayes         0.980111   \n",
       "6  CountVec + Logistic Regression (Stemmed Tokens)         0.981566   \n",
       "1                  TF-IDFVec + Logistic Regression         0.982404   \n",
       "3                      TF-IDF Vec + Random Forests         0.972682   \n",
       "2                        CountVec + Random Forests         0.973005   \n",
       "0                   CountVec + Logistic Regression         0.979381   \n",
       "\n",
       "   train_auc_score  test_auc_score  train_accuracy_score  test_accuracy_score  \\\n",
       "5         0.996901        0.982189              0.971826             0.929533   \n",
       "7         0.996583        0.981538              0.968432             0.927158   \n",
       "4         0.988572        0.981843              0.938221             0.925574   \n",
       "6         0.997990        0.981897              0.975560             0.919240   \n",
       "1         0.997272        0.983952              0.967074             0.918448   \n",
       "3         0.999865        0.975488              0.995587             0.914489   \n",
       "2         0.999893        0.974334              0.995587             0.911322   \n",
       "0         0.994285        0.981774              0.908011             0.870942   \n",
       "\n",
       "   sensitivity  specificity  \n",
       "5     0.937695     0.921095  \n",
       "7     0.931464     0.922705  \n",
       "4     0.948598     0.901771  \n",
       "6     0.964174     0.872786  \n",
       "1     0.973520     0.861514  \n",
       "3     0.973520     0.853462  \n",
       "2     0.948598     0.872786  \n",
       "0     0.993769     0.743961  "
      ]
     },
     "execution_count": 274,
     "metadata": {},
     "output_type": "execute_result"
    }
   ],
   "source": [
    "df_scores.sort_values(by='test_accuracy_score', ascending=False)"
   ]
  },
  {
   "cell_type": "markdown",
   "metadata": {},
   "source": [
    "### Which model to use for production?\n",
    "\n",
    "We find that TF-IDFVec + Multinomial Naive Bayes (Lemmatized Tokens) model has the best accuracy score among all our models. It also has a very high AUC score. We find that the performance of this model is also very good compared to other models. Hence we decide to choose this model for production. "
   ]
  },
  {
   "cell_type": "code",
   "execution_count": 275,
   "metadata": {},
   "outputs": [],
   "source": [
    "df_scores.to_csv('../data/scores.csv')"
   ]
  },
  {
   "cell_type": "markdown",
   "metadata": {},
   "source": [
    "# 4. Conclusion & Recommendations"
   ]
  },
  {
   "cell_type": "markdown",
   "metadata": {},
   "source": [
    "Based on our findings we are able to accomplish the two tasks that we specified in our problem statement. \n",
    "1. Classifying the subreddits as Marvel or DC\n",
    "Our best model can predict with 92.27% accuracy whether a given post comes from a Marvel or a DC subreddit, thus identifying a user as a marvel or DC fan. \n",
    "\n",
    "    For users of DC subreddits we recommend that DC Enterntainment should post targeted ads of specific DC movies, shows, comicbooks, merchandise for DC Fans. Please see point no.2 for additional recommendations about popular most characters. \n",
    "\n",
    "    For users of Marvel subreddits, we recommend that DC Enterntainment should focus on increasing their fan base by posting promotional ads for movie tickets and other promotional events.\n",
    "\n",
    "2. Providing recommendations to our client for their advertising campaign by suggesting the the most popular words used in DC subreddit.<br>\n",
    "From our analysis of most popular words in the subreddit we have the following reccomendations:\n",
    "\n",
    "   DC Entertainment should focus on the following characters/titles when targetting ads to DC users:\n",
    "    \n",
    "        1. Batman\n",
    "        2. Superman \n",
    "        3. Flash\n",
    "        4. Zack Snyder's Justice League\n",
    "        5. Shazam\n",
    "        6. Suicide Squad\n",
    "        7. Wonder Woman       \n",
    "        8. Black Adam          \n",
    "        9. Green Lantern      \n",
    "        10. dark knight        \n",
    "        11. harley quinn\n",
    "\n",
    "   The following actors / creators also are trending on the DC subreddits and DC Entertainment can promote their sales by using references to them in their ads:\n",
    "        1. Zack Snyder\n",
    "        2. Henry Cavill\n",
    "        3. Ben Affleck\n",
    "        4. Michael Keaton"
   ]
  },
  {
   "cell_type": "markdown",
   "metadata": {},
   "source": [
    "# 5. Future Steps\n",
    "\n",
    "1. Our analysis only focuses on classifying subreddits into two classes DC and Marvel. As next steps we can also focus on a 3rd class called Others, which will help us to classify non-relevant subreddits as such. \n",
    "2. Collecting and modelling upon more data will help train the model more accurately and further reduce overfitting. With more processing power large amounts of data can be handled by our model. \n",
    "3. We can look beyond reddit at other platforms such as Twitter, Facebook etc. for similar analysis, this can help to train our model in more generic way, such that it can predict any sentence as being relevant for DC or Marvel. This will help in placing relevants ads in search engines such as Google."
   ]
  }
 ],
 "metadata": {
  "kernelspec": {
   "display_name": "Python 3",
   "language": "python",
   "name": "python3"
  },
  "language_info": {
   "codemirror_mode": {
    "name": "ipython",
    "version": 3
   },
   "file_extension": ".py",
   "mimetype": "text/x-python",
   "name": "python",
   "nbconvert_exporter": "python",
   "pygments_lexer": "ipython3",
   "version": "3.7.7"
  }
 },
 "nbformat": 4,
 "nbformat_minor": 4
}
